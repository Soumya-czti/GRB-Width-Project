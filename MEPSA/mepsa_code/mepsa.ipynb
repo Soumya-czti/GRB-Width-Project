{
 "cells": [
  {
   "cell_type": "code",
   "execution_count": 11,
   "metadata": {},
   "outputs": [],
   "source": [
    "from astropy.io import fits\n",
    "from astropy.visualization import hist\n",
    "import matplotlib.pyplot as plt\n",
    "import numpy as np\n",
    "import peakutils\n",
    "from scipy.interpolate import UnivariateSpline"
   ]
  },
  {
   "cell_type": "code",
   "execution_count": null,
   "metadata": {},
   "outputs": [],
   "source": []
  },
  {
   "cell_type": "code",
   "execution_count": 30,
   "metadata": {},
   "outputs": [
    {
     "name": "stdout",
     "output_type": "stream",
     "text": [
      "SIMPLE  =                    T / file does conform to FITS standard             BITPIX  =                    8 / number of bits per data pixel                  NAXIS   =                    0 / number of data axes                            EXTEND  =                    T / FITS dataset may contain extensions            COMMENT   FITS (Flexible Image Transport System) format is defined in 'AstronomyCOMMENT   and Astrophysics', volume 376, page 359; bibcode: 2001A&A...376..359H CREATOR = 'make_trigger_TTE_file v1.3' / Software and version creating file     FILETYPE= 'GBM PHOTON LIST'    / Name for this type of FITS file                FILE-VER= '1.0.0   '           / Version of the format for this filetype        TELESCOP= 'GLAST   '           / Name of mission/satellite                      INSTRUME= 'GBM     '           / Specific instrument used for observation       DETNAM  = 'NAI_02  '           / Individual detector name                       OBSERVER= 'Meegan  '           / GLAST Burst Monitor P.I.                       ORIGIN  = 'GIOC    '           / Name of organization making file               DATE    = '2016-09-10T20:02:04' / file creation date (YYYY-MM-DDThh:mm:ss UT)   DATE-OBS= '2016-09-10T17:17:25' / Date of start of observation                  DATE-END= '2016-09-10T17:27:39' / Date of end of observation                    TIMESYS = 'TT      '           / Time system used in time keywords              TIMEUNIT= 's       '           / Time since MJDREF, used in TSTART and TSTOP    MJDREFI =                51910 / MJD of GLAST reference epoch, integer part     MJDREFF = 7.428703703703703D-4 / MJD of GLAST reference epoch, fractional part  TSTART  =     495220645.424098 / [GLAST MET] Observation start time             TSTOP   =     495221259.834646 / [GLAST MET] Observation stop time              FILENAME= 'glg_tte_n2_bn160910722_v00.fit' / Name of this file                  DATATYPE= 'TTE     '           / GBM datatype used for this file                TRIGTIME=     495220783.154372 / Trigger time relative to MJDREF, double precisiOBJECT  = 'GRB160910722'       / Burst name in standard format, yymmddfff       RADECSYS= 'FK5     '           / Stellar reference frame                        EQUINOX =               2000.0 / Equinox for RA and Dec                         RA_OBJ  =              30.0000 / Calculated RA of burst                         DEC_OBJ =              -15.000 / Calculated Dec of burst                        ERR_RAD =                3.000 / Calculated Location Error Radius               INFILE01= 'glg_lutcs_nai_121126640_v00.fit' / Level 1 input lookup table file   INFILE02= 'GLAST_2016254_182000_VC09_GBTTE.0.00' / Level 0 input data file      INFILE03= 'GLAST_2016254_182000_VC09_GBTTE.1.00' / Level 0 input data file      INFILE04= 'GLAST_2016254_182000_VC09_GBTTE.2.00' / Level 0 input data file      INFILE05= 'GLAST_2016254_191400_VC09_GBTTE.0.00' / Level 0 input data file      INFILE06= 'GLAST_2016254_191400_VC09_GBTTE.1.00' / Level 0 input data file      CHECKSUM= 'GoTaHmRWGmRaGmRW'   / HDU checksum updated 2016-09-10T20:02:04       DATASUM = '         0'         / data unit checksum updated 2016-09-10T20:02:04 END                                                                                                                                                                                                                                                                                                                                                                                                                                                                                                                                                                                                                                                                                                                                                                                                                                                                                                                                                                                                                                                                                                                                                                                                                                                                                                                                                                                                                                                                                                                                                                                                                                                                                                                                                                                                                                                                                                                                                                                                                                                                                                                                                                                                                                                                                                                                                                                                                                                                                                                                                                                                                                                             \n",
      "495220783.154372\n",
      "-137.72952795028687 476.6790180206299\n",
      "[-137.67952795 -137.57952795 -137.47952795 ...  476.52047205  476.62047205\n",
      "  476.72047205]\n",
      "Data saved to bn160910722.txt\n"
     ]
    }
   ],
   "source": [
    "# Load TTE data\n",
    "gbm = fits.open('/home/rishabh/GRB/bn220426285/current/glg_tte_n9_bn220426285_v00.fit')\n",
    "data = gbm[2].data\n",
    "times = data['TIME'] \n",
    "header = gbm[0].header\n",
    "print(header)\n",
    "\n",
    "# subtracting trigger time from tte file\n",
    "trigger_time = header.get('TRIGTIME')\n",
    "print(trigger_time)\n",
    "times = times-trigger_time\n",
    "\n",
    "# bin the data\n",
    "bin_width = 0.1  \n",
    "min_time, max_time = np.min(times), np.max(times)\n",
    "print(min_time,max_time)\n",
    "\n",
    "# generating counts respected to each bin\n",
    "bins = np.arange(min_time, max_time + bin_width, bin_width)\n",
    "counts, bin_edges = np.histogram(times, bins=bins)\n",
    "time_bins = (bin_edges[1:] + bin_edges[:-1]) / 2  \n",
    "print(time_bins)\n",
    "rates = counts / bin_width  \n",
    "errors = np.sqrt(counts) / bin_width  \n",
    "time_series_data = np.column_stack((time_bins, rates, errors))\n",
    "# print(time_series_data)\n",
    "output_file = \"bn220426285.txt\"  \n",
    "\n",
    "np.savetxt(output_file, time_series_data)\n",
    "\n",
    "print(f\"Data saved to {output_file}\")"
   ]
  },
  {
   "cell_type": "code",
   "execution_count": null,
   "metadata": {},
   "outputs": [],
   "source": []
  },
  {
   "cell_type": "code",
   "execution_count": null,
   "metadata": {},
   "outputs": [],
   "source": []
  }
 ],
 "metadata": {
  "kernelspec": {
   "display_name": "threeml",
   "language": "python",
   "name": "python3"
  },
  "language_info": {
   "codemirror_mode": {
    "name": "ipython",
    "version": 3
   },
   "file_extension": ".py",
   "mimetype": "text/x-python",
   "name": "python",
   "nbconvert_exporter": "python",
   "pygments_lexer": "ipython3",
   "version": "3.9.19"
  }
 },
 "nbformat": 4,
 "nbformat_minor": 2
}
