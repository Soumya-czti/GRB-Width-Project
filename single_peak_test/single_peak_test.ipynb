{
 "cells": [
  {
   "cell_type": "code",
   "execution_count": 1,
   "metadata": {},
   "outputs": [
    {
     "name": "stderr",
     "output_type": "stream",
     "text": [
      "/usr/lib/python3/dist-packages/scipy/__init__.py:146: UserWarning: A NumPy version >=1.17.3 and <1.25.0 is required for this version of SciPy (detected version 1.26.4\n",
      "  warnings.warn(f\"A NumPy version >={np_minversion} and <{np_maxversion}\"\n",
      "/home/saharsh/.local/lib/python3.10/site-packages/matplotlib/projections/__init__.py:63: UserWarning: Unable to import Axes3D. This may be due to multiple versions of Matplotlib being installed (e.g. as a system package and as a pip package). As a result, the 3D projection is not available.\n",
      "  warnings.warn(\"Unable to import Axes3D. This may be due to multiple versions of \"\n"
     ]
    }
   ],
   "source": [
    "import scipy as scipy\n",
    "from astropy.io import fits\n",
    "import matplotlib.pyplot as plt\n",
    "import numpy as np\n",
    "from astropy.table import table\n",
    "import math"
   ]
  },
  {
   "cell_type": "code",
   "execution_count": 10,
   "metadata": {},
   "outputs": [],
   "source": [
    "hdu_lst = fits.open('glg_tte_n4_bn200829582_v00.fit')"
   ]
  },
  {
   "cell_type": "code",
   "execution_count": 11,
   "metadata": {},
   "outputs": [
    {
     "data": {
      "text/plain": [
       "XTENSION= 'BINTABLE'           / marks beginning of new HDU                     \n",
       "BITPIX  =                    8 / bits per data value                            \n",
       "NAXIS   =                    2 / number of axes                                 \n",
       "NAXIS1  =                   10 / size of the n'th axis                          \n",
       "NAXIS2  =               851526 / size of the n'th axis                          \n",
       "PCOUNT  =                    0 / Required value                                 \n",
       "GCOUNT  =                    1 / Required value                                 \n",
       "TFIELDS =                    2 / Number of table fields                         \n",
       "CHECKSUM= 'IlAnLkAmIkAmIkAm'   / checksum for the current HDU                   \n",
       "DATASUM = '2386174270'         / checksum of the data records                   \n",
       "TFORM1  = '1D      '           / column data format                             \n",
       "TTYPE1  = 'TIME    '           / label for field   1                            \n",
       "TUNIT1  = 's       '           / physical unit of field                         \n",
       "TZERO1  =     620402299.660388 / Time offset                                    \n",
       "TFORM2  = '1I      '           / column data format                             \n",
       "TTYPE2  = 'PHA     '           / label for field   2                            \n",
       "TUNIT2  = 'none    '           / physical unit of field                         \n",
       "EXTNAME = 'EVENTS  '           / name of the extension                          \n",
       "TELESCOP= 'GLAST   '           / Name of mission/satellite                      \n",
       "INSTRUME= 'GBM     '           / Specific instrument used for observation       \n",
       "DETNAM  = 'NAI_04  '           / Individual detector name                       \n",
       "OBSERVER= 'Meegan  '           / GLAST Burst Monitor P.I.                       \n",
       "ORIGIN  = 'GIOC    '           / Name of organization making file               \n",
       "DATE    = '2020-08-30T00:06:28' / file creation date (YYYY-MM-DDThh:mm:ss UT)   \n",
       "DATE-OBS= '2020-08-29T13:56:02' / Date of start of observation                  \n",
       "DATE-END= '2020-08-29T14:06:17' / Date of end of observation                    \n",
       "TIMESYS = 'TT      '           / Time system used in time keywords              \n",
       "TIMEUNIT= 's       '           / Time since MJDREF, used in TSTART and TSTOP    \n",
       "MJDREFI =                51910 / MJD of GLAST reference epoch, integer part     \n",
       "MJDREFF = 7.428703703703703D-4 / MJD of GLAST reference epoch, fractional part  \n",
       "TSTART  =     620402167.819680 / [GLAST MET] Observation start time             \n",
       "TSTOP   =     620402782.228172 / [GLAST MET] Observation stop time              \n",
       "TRIGTIME=     620402299.660388 / Trigger time relative to MJDREF, double precisi\n",
       "RESPFILE= 'none    '           / Response file associated with these data       \n",
       "OBJECT  = 'DISTPAR200829582'   / Burst name in standard format, yymmddfff       \n",
       "RADECSYS= 'FK5     '           / Stellar reference frame                        \n",
       "EQUINOX =               2000.0 / Equinox for RA and Dec                         \n",
       "RA_OBJ  =             271.6167 / Calculated RA of burst                         \n",
       "DEC_OBJ =               79.067 / Calculated Dec of burst                        \n",
       "ERR_RAD =                3.267 / Calculated Location Error Radius               \n",
       "EVT_DEAD=               2.6D-6 / [s] Deadtime per event                         \n",
       "EVTDEDHI=           1.04170D-5 / [s] Deadtime per overflow channel event        \n",
       "DETCHANS=                  128 / Total number of channels in each rate          \n",
       "FIFO_END=    620402782.2281721 / Time of last event in FIFO                     \n",
       "PRMT_BEG=    620402782.2281721 / Time of first event in prompt data             \n",
       "HDUCLASS= 'OGIP    '           / format conforms to OGIP/GSFC conventions       \n",
       "HDUCLAS1= 'EVENTS  '           / Extension contains Events                      \n",
       "EXTVER  =                    1 / Version of this extension format               "
      ]
     },
     "execution_count": 11,
     "metadata": {},
     "output_type": "execute_result"
    }
   ],
   "source": [
    "hdu_lst[2].header"
   ]
  },
  {
   "cell_type": "code",
   "execution_count": 20,
   "metadata": {},
   "outputs": [],
   "source": [
    "def single_peak_test(a, t90, t90_start, trig_time):\n",
    "    hdu_list = fits.open(a)\n",
    "\n",
    "    tstop = hdu_list[3].data['STOP'][0]\n",
    "    tstart = hdu_list[3].data['START'][0]\n",
    "\n",
    "    filter_conditions = (hdu_list[2].data['PHA'] > 33) & (hdu_list[2].data['PHA'] <= 124)\n",
    "    filtered_data = hdu_list[2].data[filter_conditions]\n",
    "\n",
    "    t90_region_filter = (filtered_data['TIME'] >= trig_time + t90_start) & (filtered_data['TIME'] <= trig_time + t90_start + t90)\n",
    "    t90_data = filtered_data[t90_region_filter]\n",
    "\n",
    "    bg_region_filter = (filtered_data['TIME'] < trig_time + t90_start) | (filtered_data['TIME'] > trig_time + t90_start + t90)\n",
    "    bg_data = filtered_data[bg_region_filter]\n",
    "\n",
    "    hist_t90, _ = np.histogram(t90_data['TIME'].astype('float128'), bins=120)\n",
    "    hist_norm_factor = t90/120\n",
    "    hist_t90 = hist_t90/hist_norm_factor\n",
    "    hist_bg, _ = np.histogram(bg_data['TIME'].astype('float128'), bins=120)\n",
    "    #bg_norm_factor = ((trig_time +  - tstart) + (tstop - t90 - t90_start-trig_time)) / 120\n",
    "    bg_norm_factor =  (tstop - tstart - t90)/120\n",
    "    hist_bg = hist_bg / bg_norm_factor\n",
    "\n",
    "    bg = np.median(hist_bg)\n",
    "    peak = hist_t90.max()\n",
    "    print(peak,bg)\n",
    "\n",
    "    tline = peak - 2 * math.sqrt(peak)\n",
    "    bline = bg + 2 * math.sqrt(bg)\n",
    "    lines = np.linspace(bline, tline, 16)[1:15]\n",
    "\n",
    "    test_score = 0\n",
    "\n",
    "    for line in lines:\n",
    "        err = np.sqrt(line)\n",
    "        above_points = np.where(hist_t90 >= line + err)[0]\n",
    "\n",
    "        if len(above_points) < 2:\n",
    "            continue\n",
    "\n",
    "        first, last = above_points[0], above_points[-1]\n",
    "\n",
    "        below_points = hist_t90[first:last + 1] < (line - err)\n",
    "        test_score += np.sum(below_points)\n",
    "\n",
    "    n = t90 / 120\n",
    "    normalized_score = 1 - (test_score / (120 * 15))\n",
    "\n",
    "    print(\"Normalized single-peak score:\", normalized_score)\n",
    "    if normalized_score>=0.9983:\n",
    "        print('Single peaked GRB')\n",
    "    else:\n",
    "        print('Multiple peaked GRB')\n",
    "    hdu_list.close()"
   ]
  },
  {
   "cell_type": "code",
   "execution_count": 21,
   "metadata": {},
   "outputs": [
    {
     "name": "stdout",
     "output_type": "stream",
     "text": [
      "10347.222222222223 2031.0\n",
      "Normalized single-peak score: 0.9727777777777777\n",
      "Multiple peaked GRB\n"
     ]
    }
   ],
   "source": [
    "trig_tm = 620402299.660388\n",
    "start = 16.896\n",
    "duration = 6.912\n",
    "single_peak_test('glg_tte_n4_bn200829582_v00.fit',duration,start,trig_tm)"
   ]
  }
 ],
 "metadata": {
  "kernelspec": {
   "display_name": "Python 3",
   "language": "python",
   "name": "python3"
  },
  "language_info": {
   "codemirror_mode": {
    "name": "ipython",
    "version": 3
   },
   "file_extension": ".py",
   "mimetype": "text/x-python",
   "name": "python",
   "nbconvert_exporter": "python",
   "pygments_lexer": "ipython3",
   "version": "3.10.12"
  }
 },
 "nbformat": 4,
 "nbformat_minor": 2
}
