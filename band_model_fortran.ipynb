{
 "cells": [
  {
   "cell_type": "code",
   "execution_count": 1,
   "id": "827491b3-ec3e-4a57-8c1d-2efb22869030",
   "metadata": {},
   "outputs": [
    {
     "data": {
      "text/html": [
       "<pre style=\"white-space:pre;overflow-x:auto;line-height:normal;font-family:Menlo,'DejaVu Sans Mono',consolas,'Courier New',monospace\"><span style=\"color: #00ff00; text-decoration-color: #00ff00\">16:35:37 </span><span style=\"color: #af5fd7; text-decoration-color: #af5fd7\">WARNING </span> <span style=\"color: #c6c6c6; text-decoration-color: #c6c6c6; font-weight: bold\"> The naima package is not available. Models that depend on it will not be         </span><a href=\"file:///home/rishabh/miniconda3/envs/threeml/lib/python3.9/site-packages/astromodels/functions/functions_1D/functions.py\" target=\"_blank\"><span style=\"color: #7f7f7f; text-decoration-color: #7f7f7f\">functions.py</span></a><span style=\"color: #7f7f7f; text-decoration-color: #7f7f7f\">:</span><a href=\"file:///home/rishabh/miniconda3/envs/threeml/lib/python3.9/site-packages/astromodels/functions/functions_1D/functions.py#48\" target=\"_blank\"><span style=\"color: #7f7f7f; text-decoration-color: #7f7f7f\">48</span></a>\n",
       "<span style=\"color: #00ff00; text-decoration-color: #00ff00\">         </span>         <span style=\"color: #c6c6c6; text-decoration-color: #c6c6c6; font-weight: bold\">available                                                                         </span><span style=\"color: #7f7f7f; text-decoration-color: #7f7f7f\">               </span>\n",
       "</pre>\n"
      ],
      "text/plain": [
       "\u001b[38;5;46m16:35:37\u001b[0m\u001b[38;5;46m \u001b[0m\u001b[38;5;134mWARNING \u001b[0m \u001b[1;38;5;251m The naima package is not available. Models that depend on it will not be        \u001b[0m\u001b[1;38;5;251m \u001b[0m\u001b]8;id=609442;file:///home/rishabh/miniconda3/envs/threeml/lib/python3.9/site-packages/astromodels/functions/functions_1D/functions.py\u001b\\\u001b[2mfunctions.py\u001b[0m\u001b]8;;\u001b\\\u001b[2m:\u001b[0m\u001b]8;id=776768;file:///home/rishabh/miniconda3/envs/threeml/lib/python3.9/site-packages/astromodels/functions/functions_1D/functions.py#48\u001b\\\u001b[2m48\u001b[0m\u001b]8;;\u001b\\\n",
       "\u001b[38;5;46m         \u001b[0m         \u001b[1;38;5;251mavailable                                                                        \u001b[0m\u001b[1;38;5;251m \u001b[0m\u001b[2m               \u001b[0m\n"
      ]
     },
     "metadata": {},
     "output_type": "display_data"
    },
    {
     "data": {
      "text/html": [
       "<pre style=\"white-space:pre;overflow-x:auto;line-height:normal;font-family:Menlo,'DejaVu Sans Mono',consolas,'Courier New',monospace\"><span style=\"color: #00ff00; text-decoration-color: #00ff00\">         </span><span style=\"color: #af5fd7; text-decoration-color: #af5fd7\">WARNING </span> <span style=\"color: #c6c6c6; text-decoration-color: #c6c6c6; font-weight: bold\"> The GSL library or the pygsl wrapper cannot be loaded. Models that depend on it  </span><a href=\"file:///home/rishabh/miniconda3/envs/threeml/lib/python3.9/site-packages/astromodels/functions/functions_1D/functions.py\" target=\"_blank\"><span style=\"color: #7f7f7f; text-decoration-color: #7f7f7f\">functions.py</span></a><span style=\"color: #7f7f7f; text-decoration-color: #7f7f7f\">:</span><a href=\"file:///home/rishabh/miniconda3/envs/threeml/lib/python3.9/site-packages/astromodels/functions/functions_1D/functions.py#69\" target=\"_blank\"><span style=\"color: #7f7f7f; text-decoration-color: #7f7f7f\">69</span></a>\n",
       "<span style=\"color: #00ff00; text-decoration-color: #00ff00\">         </span>         <span style=\"color: #c6c6c6; text-decoration-color: #c6c6c6; font-weight: bold\">will not be available.                                                            </span><span style=\"color: #7f7f7f; text-decoration-color: #7f7f7f\">               </span>\n",
       "</pre>\n"
      ],
      "text/plain": [
       "\u001b[38;5;46m        \u001b[0m\u001b[38;5;46m \u001b[0m\u001b[38;5;134mWARNING \u001b[0m \u001b[1;38;5;251m The GSL library or the pygsl wrapper cannot be loaded. Models that depend on it \u001b[0m\u001b[1;38;5;251m \u001b[0m\u001b]8;id=141630;file:///home/rishabh/miniconda3/envs/threeml/lib/python3.9/site-packages/astromodels/functions/functions_1D/functions.py\u001b\\\u001b[2mfunctions.py\u001b[0m\u001b]8;;\u001b\\\u001b[2m:\u001b[0m\u001b]8;id=211018;file:///home/rishabh/miniconda3/envs/threeml/lib/python3.9/site-packages/astromodels/functions/functions_1D/functions.py#69\u001b\\\u001b[2m69\u001b[0m\u001b]8;;\u001b\\\n",
       "\u001b[38;5;46m         \u001b[0m         \u001b[1;38;5;251mwill not be available.                                                           \u001b[0m\u001b[1;38;5;251m \u001b[0m\u001b[2m               \u001b[0m\n"
      ]
     },
     "metadata": {},
     "output_type": "display_data"
    },
    {
     "data": {
      "text/html": [
       "<pre style=\"white-space:pre;overflow-x:auto;line-height:normal;font-family:Menlo,'DejaVu Sans Mono',consolas,'Courier New',monospace\"><span style=\"color: #00ff00; text-decoration-color: #00ff00\">16:35:38 </span><span style=\"color: #af5fd7; text-decoration-color: #af5fd7\">WARNING </span> <span style=\"color: #c6c6c6; text-decoration-color: #c6c6c6; font-weight: bold\"> The ebltable package is not available. Models that depend on it will not be     </span><a href=\"file:///home/rishabh/miniconda3/envs/threeml/lib/python3.9/site-packages/astromodels/functions/functions_1D/absorption.py\" target=\"_blank\"><span style=\"color: #7f7f7f; text-decoration-color: #7f7f7f\">absorption.py</span></a><span style=\"color: #7f7f7f; text-decoration-color: #7f7f7f\">:</span><a href=\"file:///home/rishabh/miniconda3/envs/threeml/lib/python3.9/site-packages/astromodels/functions/functions_1D/absorption.py#33\" target=\"_blank\"><span style=\"color: #7f7f7f; text-decoration-color: #7f7f7f\">33</span></a>\n",
       "<span style=\"color: #00ff00; text-decoration-color: #00ff00\">         </span>         <span style=\"color: #c6c6c6; text-decoration-color: #c6c6c6; font-weight: bold\">available                                                                        </span><span style=\"color: #7f7f7f; text-decoration-color: #7f7f7f\">                </span>\n",
       "</pre>\n"
      ],
      "text/plain": [
       "\u001b[38;5;46m16:35:38\u001b[0m\u001b[38;5;46m \u001b[0m\u001b[38;5;134mWARNING \u001b[0m \u001b[1;38;5;251m The ebltable package is not available. Models that depend on it will not be    \u001b[0m\u001b[1;38;5;251m \u001b[0m\u001b]8;id=84804;file:///home/rishabh/miniconda3/envs/threeml/lib/python3.9/site-packages/astromodels/functions/functions_1D/absorption.py\u001b\\\u001b[2mabsorption.py\u001b[0m\u001b]8;;\u001b\\\u001b[2m:\u001b[0m\u001b]8;id=619642;file:///home/rishabh/miniconda3/envs/threeml/lib/python3.9/site-packages/astromodels/functions/functions_1D/absorption.py#33\u001b\\\u001b[2m33\u001b[0m\u001b]8;;\u001b\\\n",
       "\u001b[38;5;46m         \u001b[0m         \u001b[1;38;5;251mavailable                                                                       \u001b[0m\u001b[1;38;5;251m \u001b[0m\u001b[2m                \u001b[0m\n"
      ]
     },
     "metadata": {},
     "output_type": "display_data"
    },
    {
     "data": {
      "text/html": [
       "<pre style=\"white-space:pre;overflow-x:auto;line-height:normal;font-family:Menlo,'DejaVu Sans Mono',consolas,'Courier New',monospace\"><span style=\"color: #00ff00; text-decoration-color: #00ff00\">16:35:39 </span><span style=\"color: #00ffaf; text-decoration-color: #00ffaf\">INFO    </span> <span style=\"color: #c6c6c6; text-decoration-color: #c6c6c6; font-weight: bold\"> Starting 3ML!                                                                     </span><a href=\"file:///home/rishabh/miniconda3/envs/threeml/lib/python3.9/site-packages/threeML/__init__.py\" target=\"_blank\"><span style=\"color: #7f7f7f; text-decoration-color: #7f7f7f\">__init__.py</span></a><span style=\"color: #7f7f7f; text-decoration-color: #7f7f7f\">:</span><a href=\"file:///home/rishabh/miniconda3/envs/threeml/lib/python3.9/site-packages/threeML/__init__.py#39\" target=\"_blank\"><span style=\"color: #7f7f7f; text-decoration-color: #7f7f7f\">39</span></a>\n",
       "</pre>\n"
      ],
      "text/plain": [
       "\u001b[38;5;46m16:35:39\u001b[0m\u001b[38;5;46m \u001b[0m\u001b[38;5;49mINFO    \u001b[0m \u001b[1;38;5;251m Starting 3ML!                                                                    \u001b[0m\u001b[1;38;5;251m \u001b[0m\u001b]8;id=444427;file:///home/rishabh/miniconda3/envs/threeml/lib/python3.9/site-packages/threeML/__init__.py\u001b\\\u001b[2m__init__.py\u001b[0m\u001b]8;;\u001b\\\u001b[2m:\u001b[0m\u001b]8;id=758729;file:///home/rishabh/miniconda3/envs/threeml/lib/python3.9/site-packages/threeML/__init__.py#39\u001b\\\u001b[2m39\u001b[0m\u001b]8;;\u001b\\\n"
      ]
     },
     "metadata": {},
     "output_type": "display_data"
    },
    {
     "data": {
      "text/html": [
       "<pre style=\"white-space:pre;overflow-x:auto;line-height:normal;font-family:Menlo,'DejaVu Sans Mono',consolas,'Courier New',monospace\"><span style=\"color: #00ff00; text-decoration-color: #00ff00\">         </span><span style=\"color: #af5fd7; text-decoration-color: #af5fd7\">WARNING </span> <span style=\"color: #c6c6c6; text-decoration-color: #c6c6c6; font-weight: bold\"> WARNINGs here are </span><span style=\"color: #800000; text-decoration-color: #800000; font-weight: bold\">NOT</span><span style=\"color: #c6c6c6; text-decoration-color: #c6c6c6; font-weight: bold\"> errors                                                      </span><a href=\"file:///home/rishabh/miniconda3/envs/threeml/lib/python3.9/site-packages/threeML/__init__.py\" target=\"_blank\"><span style=\"color: #7f7f7f; text-decoration-color: #7f7f7f\">__init__.py</span></a><span style=\"color: #7f7f7f; text-decoration-color: #7f7f7f\">:</span><a href=\"file:///home/rishabh/miniconda3/envs/threeml/lib/python3.9/site-packages/threeML/__init__.py#40\" target=\"_blank\"><span style=\"color: #7f7f7f; text-decoration-color: #7f7f7f\">40</span></a>\n",
       "</pre>\n"
      ],
      "text/plain": [
       "\u001b[38;5;46m        \u001b[0m\u001b[38;5;46m \u001b[0m\u001b[38;5;134mWARNING \u001b[0m \u001b[1;38;5;251m WARNINGs here are \u001b[0m\u001b[1;31mNOT\u001b[0m\u001b[1;38;5;251m errors                                                     \u001b[0m\u001b[1;38;5;251m \u001b[0m\u001b]8;id=762323;file:///home/rishabh/miniconda3/envs/threeml/lib/python3.9/site-packages/threeML/__init__.py\u001b\\\u001b[2m__init__.py\u001b[0m\u001b]8;;\u001b\\\u001b[2m:\u001b[0m\u001b]8;id=205693;file:///home/rishabh/miniconda3/envs/threeml/lib/python3.9/site-packages/threeML/__init__.py#40\u001b\\\u001b[2m40\u001b[0m\u001b]8;;\u001b\\\n"
      ]
     },
     "metadata": {},
     "output_type": "display_data"
    },
    {
     "data": {
      "text/html": [
       "<pre style=\"white-space:pre;overflow-x:auto;line-height:normal;font-family:Menlo,'DejaVu Sans Mono',consolas,'Courier New',monospace\"><span style=\"color: #00ff00; text-decoration-color: #00ff00\">         </span><span style=\"color: #af5fd7; text-decoration-color: #af5fd7\">WARNING </span> <span style=\"color: #c6c6c6; text-decoration-color: #c6c6c6; font-weight: bold\"> but are inform you about optional packages that can be installed                  </span><a href=\"file:///home/rishabh/miniconda3/envs/threeml/lib/python3.9/site-packages/threeML/__init__.py\" target=\"_blank\"><span style=\"color: #7f7f7f; text-decoration-color: #7f7f7f\">__init__.py</span></a><span style=\"color: #7f7f7f; text-decoration-color: #7f7f7f\">:</span><a href=\"file:///home/rishabh/miniconda3/envs/threeml/lib/python3.9/site-packages/threeML/__init__.py#41\" target=\"_blank\"><span style=\"color: #7f7f7f; text-decoration-color: #7f7f7f\">41</span></a>\n",
       "</pre>\n"
      ],
      "text/plain": [
       "\u001b[38;5;46m        \u001b[0m\u001b[38;5;46m \u001b[0m\u001b[38;5;134mWARNING \u001b[0m \u001b[1;38;5;251m but are inform you about optional packages that can be installed                 \u001b[0m\u001b[1;38;5;251m \u001b[0m\u001b]8;id=752073;file:///home/rishabh/miniconda3/envs/threeml/lib/python3.9/site-packages/threeML/__init__.py\u001b\\\u001b[2m__init__.py\u001b[0m\u001b]8;;\u001b\\\u001b[2m:\u001b[0m\u001b]8;id=387352;file:///home/rishabh/miniconda3/envs/threeml/lib/python3.9/site-packages/threeML/__init__.py#41\u001b\\\u001b[2m41\u001b[0m\u001b]8;;\u001b\\\n"
      ]
     },
     "metadata": {},
     "output_type": "display_data"
    },
    {
     "data": {
      "text/html": [
       "<pre style=\"white-space:pre;overflow-x:auto;line-height:normal;font-family:Menlo,'DejaVu Sans Mono',consolas,'Courier New',monospace\"><span style=\"color: #00ff00; text-decoration-color: #00ff00\">         </span><span style=\"color: #af5fd7; text-decoration-color: #af5fd7\">WARNING </span> <span style=\"color: #c6c6c6; text-decoration-color: #c6c6c6; font-weight: bold\"> </span><span style=\"color: #800000; text-decoration-color: #800000; font-weight: bold\"> to disable these messages, turn off start_warning in your config file</span><span style=\"color: #c6c6c6; text-decoration-color: #c6c6c6; font-weight: bold\">            </span><a href=\"file:///home/rishabh/miniconda3/envs/threeml/lib/python3.9/site-packages/threeML/__init__.py\" target=\"_blank\"><span style=\"color: #7f7f7f; text-decoration-color: #7f7f7f\">__init__.py</span></a><span style=\"color: #7f7f7f; text-decoration-color: #7f7f7f\">:</span><a href=\"file:///home/rishabh/miniconda3/envs/threeml/lib/python3.9/site-packages/threeML/__init__.py#44\" target=\"_blank\"><span style=\"color: #7f7f7f; text-decoration-color: #7f7f7f\">44</span></a>\n",
       "</pre>\n"
      ],
      "text/plain": [
       "\u001b[38;5;46m        \u001b[0m\u001b[38;5;46m \u001b[0m\u001b[38;5;134mWARNING \u001b[0m \u001b[1;38;5;251m \u001b[0m\u001b[1;31m to disable these messages, turn off start_warning in your config file\u001b[0m\u001b[1;38;5;251m           \u001b[0m\u001b[1;38;5;251m \u001b[0m\u001b]8;id=228905;file:///home/rishabh/miniconda3/envs/threeml/lib/python3.9/site-packages/threeML/__init__.py\u001b\\\u001b[2m__init__.py\u001b[0m\u001b]8;;\u001b\\\u001b[2m:\u001b[0m\u001b]8;id=320075;file:///home/rishabh/miniconda3/envs/threeml/lib/python3.9/site-packages/threeML/__init__.py#44\u001b\\\u001b[2m44\u001b[0m\u001b]8;;\u001b\\\n"
      ]
     },
     "metadata": {},
     "output_type": "display_data"
    },
    {
     "data": {
      "text/html": [
       "<pre style=\"white-space:pre;overflow-x:auto;line-height:normal;font-family:Menlo,'DejaVu Sans Mono',consolas,'Courier New',monospace\"><span style=\"color: #00ff00; text-decoration-color: #00ff00\">16:35:39 </span><span style=\"color: #af5fd7; text-decoration-color: #af5fd7\">WARNING </span> <span style=\"color: #c6c6c6; text-decoration-color: #c6c6c6; font-weight: bold\"> ROOT minimizer not available                                                </span><a href=\"file:///home/rishabh/miniconda3/envs/threeml/lib/python3.9/site-packages/threeML/minimizer/minimization.py\" target=\"_blank\"><span style=\"color: #7f7f7f; text-decoration-color: #7f7f7f\">minimization.py</span></a><span style=\"color: #7f7f7f; text-decoration-color: #7f7f7f\">:</span><a href=\"file:///home/rishabh/miniconda3/envs/threeml/lib/python3.9/site-packages/threeML/minimizer/minimization.py#1345\" target=\"_blank\"><span style=\"color: #7f7f7f; text-decoration-color: #7f7f7f\">1345</span></a>\n",
       "</pre>\n"
      ],
      "text/plain": [
       "\u001b[38;5;46m16:35:39\u001b[0m\u001b[38;5;46m \u001b[0m\u001b[38;5;134mWARNING \u001b[0m \u001b[1;38;5;251m ROOT minimizer not available                                               \u001b[0m\u001b[1;38;5;251m \u001b[0m\u001b]8;id=967860;file:///home/rishabh/miniconda3/envs/threeml/lib/python3.9/site-packages/threeML/minimizer/minimization.py\u001b\\\u001b[2mminimization.py\u001b[0m\u001b]8;;\u001b\\\u001b[2m:\u001b[0m\u001b]8;id=91041;file:///home/rishabh/miniconda3/envs/threeml/lib/python3.9/site-packages/threeML/minimizer/minimization.py#1345\u001b\\\u001b[2m1345\u001b[0m\u001b]8;;\u001b\\\n"
      ]
     },
     "metadata": {},
     "output_type": "display_data"
    },
    {
     "data": {
      "text/html": [
       "<pre style=\"white-space:pre;overflow-x:auto;line-height:normal;font-family:Menlo,'DejaVu Sans Mono',consolas,'Courier New',monospace\"><span style=\"color: #00ff00; text-decoration-color: #00ff00\">         </span><span style=\"color: #af5fd7; text-decoration-color: #af5fd7\">WARNING </span> <span style=\"color: #c6c6c6; text-decoration-color: #c6c6c6; font-weight: bold\"> PyGMO is not available                                                      </span><a href=\"file:///home/rishabh/miniconda3/envs/threeml/lib/python3.9/site-packages/threeML/minimizer/minimization.py\" target=\"_blank\"><span style=\"color: #7f7f7f; text-decoration-color: #7f7f7f\">minimization.py</span></a><span style=\"color: #7f7f7f; text-decoration-color: #7f7f7f\">:</span><a href=\"file:///home/rishabh/miniconda3/envs/threeml/lib/python3.9/site-packages/threeML/minimizer/minimization.py#1369\" target=\"_blank\"><span style=\"color: #7f7f7f; text-decoration-color: #7f7f7f\">1369</span></a>\n",
       "</pre>\n"
      ],
      "text/plain": [
       "\u001b[38;5;46m        \u001b[0m\u001b[38;5;46m \u001b[0m\u001b[38;5;134mWARNING \u001b[0m \u001b[1;38;5;251m PyGMO is not available                                                     \u001b[0m\u001b[1;38;5;251m \u001b[0m\u001b]8;id=619906;file:///home/rishabh/miniconda3/envs/threeml/lib/python3.9/site-packages/threeML/minimizer/minimization.py\u001b\\\u001b[2mminimization.py\u001b[0m\u001b]8;;\u001b\\\u001b[2m:\u001b[0m\u001b]8;id=983844;file:///home/rishabh/miniconda3/envs/threeml/lib/python3.9/site-packages/threeML/minimizer/minimization.py#1369\u001b\\\u001b[2m1369\u001b[0m\u001b]8;;\u001b\\\n"
      ]
     },
     "metadata": {},
     "output_type": "display_data"
    },
    {
     "data": {
      "text/html": [
       "<pre style=\"white-space:pre;overflow-x:auto;line-height:normal;font-family:Menlo,'DejaVu Sans Mono',consolas,'Courier New',monospace\"><span style=\"color: #00ff00; text-decoration-color: #00ff00\">16:35:40 </span><span style=\"color: #af5fd7; text-decoration-color: #af5fd7\">WARNING </span> <span style=\"color: #c6c6c6; text-decoration-color: #c6c6c6; font-weight: bold\"> The cthreeML package is not installed. You will not be able to use plugins which  </span><a href=\"file:///home/rishabh/miniconda3/envs/threeml/lib/python3.9/site-packages/threeML/__init__.py\" target=\"_blank\"><span style=\"color: #7f7f7f; text-decoration-color: #7f7f7f\">__init__.py</span></a><span style=\"color: #7f7f7f; text-decoration-color: #7f7f7f\">:</span><a href=\"file:///home/rishabh/miniconda3/envs/threeml/lib/python3.9/site-packages/threeML/__init__.py#94\" target=\"_blank\"><span style=\"color: #7f7f7f; text-decoration-color: #7f7f7f\">94</span></a>\n",
       "<span style=\"color: #00ff00; text-decoration-color: #00ff00\">         </span>         <span style=\"color: #c6c6c6; text-decoration-color: #c6c6c6; font-weight: bold\">require the C/C++ interface (currently HAWC)                                       </span><span style=\"color: #7f7f7f; text-decoration-color: #7f7f7f\">              </span>\n",
       "</pre>\n"
      ],
      "text/plain": [
       "\u001b[38;5;46m16:35:40\u001b[0m\u001b[38;5;46m \u001b[0m\u001b[38;5;134mWARNING \u001b[0m \u001b[1;38;5;251m The cthreeML package is not installed. You will not be able to use plugins which \u001b[0m\u001b[1;38;5;251m \u001b[0m\u001b]8;id=892894;file:///home/rishabh/miniconda3/envs/threeml/lib/python3.9/site-packages/threeML/__init__.py\u001b\\\u001b[2m__init__.py\u001b[0m\u001b]8;;\u001b\\\u001b[2m:\u001b[0m\u001b]8;id=208988;file:///home/rishabh/miniconda3/envs/threeml/lib/python3.9/site-packages/threeML/__init__.py#94\u001b\\\u001b[2m94\u001b[0m\u001b]8;;\u001b\\\n",
       "\u001b[38;5;46m         \u001b[0m         \u001b[1;38;5;251mrequire the C/C++ interface \u001b[0m\u001b[1;38;5;251m(\u001b[0m\u001b[1;38;5;251mcurrently HAWC\u001b[0m\u001b[1;38;5;251m)\u001b[0m\u001b[1;38;5;251m                                      \u001b[0m\u001b[1;38;5;251m \u001b[0m\u001b[2m              \u001b[0m\n"
      ]
     },
     "metadata": {},
     "output_type": "display_data"
    },
    {
     "data": {
      "text/html": [
       "<pre style=\"white-space:pre;overflow-x:auto;line-height:normal;font-family:Menlo,'DejaVu Sans Mono',consolas,'Courier New',monospace\"><span style=\"color: #00ff00; text-decoration-color: #00ff00\">         </span><span style=\"color: #af5fd7; text-decoration-color: #af5fd7\">WARNING </span> <span style=\"color: #c6c6c6; text-decoration-color: #c6c6c6; font-weight: bold\"> Could not import plugin HAWCLike.py. Do you have the relative instrument         </span><a href=\"file:///home/rishabh/miniconda3/envs/threeml/lib/python3.9/site-packages/threeML/__init__.py\" target=\"_blank\"><span style=\"color: #7f7f7f; text-decoration-color: #7f7f7f\">__init__.py</span></a><span style=\"color: #7f7f7f; text-decoration-color: #7f7f7f\">:</span><a href=\"file:///home/rishabh/miniconda3/envs/threeml/lib/python3.9/site-packages/threeML/__init__.py#144\" target=\"_blank\"><span style=\"color: #7f7f7f; text-decoration-color: #7f7f7f\">144</span></a>\n",
       "<span style=\"color: #00ff00; text-decoration-color: #00ff00\">         </span>         <span style=\"color: #c6c6c6; text-decoration-color: #c6c6c6; font-weight: bold\">software installed and configured?                                                </span><span style=\"color: #7f7f7f; text-decoration-color: #7f7f7f\">               </span>\n",
       "</pre>\n"
      ],
      "text/plain": [
       "\u001b[38;5;46m        \u001b[0m\u001b[38;5;46m \u001b[0m\u001b[38;5;134mWARNING \u001b[0m \u001b[1;38;5;251m Could not import plugin HAWCLike.py. Do you have the relative instrument        \u001b[0m\u001b[1;38;5;251m \u001b[0m\u001b]8;id=82701;file:///home/rishabh/miniconda3/envs/threeml/lib/python3.9/site-packages/threeML/__init__.py\u001b\\\u001b[2m__init__.py\u001b[0m\u001b]8;;\u001b\\\u001b[2m:\u001b[0m\u001b]8;id=524906;file:///home/rishabh/miniconda3/envs/threeml/lib/python3.9/site-packages/threeML/__init__.py#144\u001b\\\u001b[2m144\u001b[0m\u001b]8;;\u001b\\\n",
       "\u001b[38;5;46m         \u001b[0m         \u001b[1;38;5;251msoftware installed and configured?                                               \u001b[0m\u001b[1;38;5;251m \u001b[0m\u001b[2m               \u001b[0m\n"
      ]
     },
     "metadata": {},
     "output_type": "display_data"
    },
    {
     "data": {
      "text/html": [
       "<pre style=\"white-space:pre;overflow-x:auto;line-height:normal;font-family:Menlo,'DejaVu Sans Mono',consolas,'Courier New',monospace\"><span style=\"color: #00ff00; text-decoration-color: #00ff00\">         </span><span style=\"color: #af5fd7; text-decoration-color: #af5fd7\">WARNING </span> <span style=\"color: #c6c6c6; text-decoration-color: #c6c6c6; font-weight: bold\"> Env. variable OMP_NUM_THREADS is not set. Please set it to </span><span style=\"color: #c0c0c0; text-decoration-color: #c0c0c0; font-weight: bold\">1</span><span style=\"color: #c6c6c6; text-decoration-color: #c6c6c6; font-weight: bold\"> for optimal         </span><a href=\"file:///home/rishabh/miniconda3/envs/threeml/lib/python3.9/site-packages/threeML/__init__.py\" target=\"_blank\"><span style=\"color: #7f7f7f; text-decoration-color: #7f7f7f\">__init__.py</span></a><span style=\"color: #7f7f7f; text-decoration-color: #7f7f7f\">:</span><a href=\"file:///home/rishabh/miniconda3/envs/threeml/lib/python3.9/site-packages/threeML/__init__.py#387\" target=\"_blank\"><span style=\"color: #7f7f7f; text-decoration-color: #7f7f7f\">387</span></a>\n",
       "<span style=\"color: #00ff00; text-decoration-color: #00ff00\">         </span>         <span style=\"color: #c6c6c6; text-decoration-color: #c6c6c6; font-weight: bold\">performances in 3ML                                                               </span><span style=\"color: #7f7f7f; text-decoration-color: #7f7f7f\">               </span>\n",
       "</pre>\n"
      ],
      "text/plain": [
       "\u001b[38;5;46m        \u001b[0m\u001b[38;5;46m \u001b[0m\u001b[38;5;134mWARNING \u001b[0m \u001b[1;38;5;251m Env. variable OMP_NUM_THREADS is not set. Please set it to \u001b[0m\u001b[1;37m1\u001b[0m\u001b[1;38;5;251m for optimal        \u001b[0m\u001b[1;38;5;251m \u001b[0m\u001b]8;id=270441;file:///home/rishabh/miniconda3/envs/threeml/lib/python3.9/site-packages/threeML/__init__.py\u001b\\\u001b[2m__init__.py\u001b[0m\u001b]8;;\u001b\\\u001b[2m:\u001b[0m\u001b]8;id=606631;file:///home/rishabh/miniconda3/envs/threeml/lib/python3.9/site-packages/threeML/__init__.py#387\u001b\\\u001b[2m387\u001b[0m\u001b]8;;\u001b\\\n",
       "\u001b[38;5;46m         \u001b[0m         \u001b[1;38;5;251mperformances in 3ML                                                              \u001b[0m\u001b[1;38;5;251m \u001b[0m\u001b[2m               \u001b[0m\n"
      ]
     },
     "metadata": {},
     "output_type": "display_data"
    },
    {
     "data": {
      "text/html": [
       "<pre style=\"white-space:pre;overflow-x:auto;line-height:normal;font-family:Menlo,'DejaVu Sans Mono',consolas,'Courier New',monospace\"><span style=\"color: #00ff00; text-decoration-color: #00ff00\">         </span><span style=\"color: #af5fd7; text-decoration-color: #af5fd7\">WARNING </span> <span style=\"color: #c6c6c6; text-decoration-color: #c6c6c6; font-weight: bold\"> Env. variable MKL_NUM_THREADS is not set. Please set it to </span><span style=\"color: #c0c0c0; text-decoration-color: #c0c0c0; font-weight: bold\">1</span><span style=\"color: #c6c6c6; text-decoration-color: #c6c6c6; font-weight: bold\"> for optimal         </span><a href=\"file:///home/rishabh/miniconda3/envs/threeml/lib/python3.9/site-packages/threeML/__init__.py\" target=\"_blank\"><span style=\"color: #7f7f7f; text-decoration-color: #7f7f7f\">__init__.py</span></a><span style=\"color: #7f7f7f; text-decoration-color: #7f7f7f\">:</span><a href=\"file:///home/rishabh/miniconda3/envs/threeml/lib/python3.9/site-packages/threeML/__init__.py#387\" target=\"_blank\"><span style=\"color: #7f7f7f; text-decoration-color: #7f7f7f\">387</span></a>\n",
       "<span style=\"color: #00ff00; text-decoration-color: #00ff00\">         </span>         <span style=\"color: #c6c6c6; text-decoration-color: #c6c6c6; font-weight: bold\">performances in 3ML                                                               </span><span style=\"color: #7f7f7f; text-decoration-color: #7f7f7f\">               </span>\n",
       "</pre>\n"
      ],
      "text/plain": [
       "\u001b[38;5;46m        \u001b[0m\u001b[38;5;46m \u001b[0m\u001b[38;5;134mWARNING \u001b[0m \u001b[1;38;5;251m Env. variable MKL_NUM_THREADS is not set. Please set it to \u001b[0m\u001b[1;37m1\u001b[0m\u001b[1;38;5;251m for optimal        \u001b[0m\u001b[1;38;5;251m \u001b[0m\u001b]8;id=267159;file:///home/rishabh/miniconda3/envs/threeml/lib/python3.9/site-packages/threeML/__init__.py\u001b\\\u001b[2m__init__.py\u001b[0m\u001b]8;;\u001b\\\u001b[2m:\u001b[0m\u001b]8;id=906301;file:///home/rishabh/miniconda3/envs/threeml/lib/python3.9/site-packages/threeML/__init__.py#387\u001b\\\u001b[2m387\u001b[0m\u001b]8;;\u001b\\\n",
       "\u001b[38;5;46m         \u001b[0m         \u001b[1;38;5;251mperformances in 3ML                                                              \u001b[0m\u001b[1;38;5;251m \u001b[0m\u001b[2m               \u001b[0m\n"
      ]
     },
     "metadata": {},
     "output_type": "display_data"
    },
    {
     "data": {
      "text/html": [
       "<pre style=\"white-space:pre;overflow-x:auto;line-height:normal;font-family:Menlo,'DejaVu Sans Mono',consolas,'Courier New',monospace\"><span style=\"color: #00ff00; text-decoration-color: #00ff00\">         </span><span style=\"color: #af5fd7; text-decoration-color: #af5fd7\">WARNING </span> <span style=\"color: #c6c6c6; text-decoration-color: #c6c6c6; font-weight: bold\"> Env. variable NUMEXPR_NUM_THREADS is not set. Please set it to </span><span style=\"color: #c0c0c0; text-decoration-color: #c0c0c0; font-weight: bold\">1</span><span style=\"color: #c6c6c6; text-decoration-color: #c6c6c6; font-weight: bold\"> for optimal     </span><a href=\"file:///home/rishabh/miniconda3/envs/threeml/lib/python3.9/site-packages/threeML/__init__.py\" target=\"_blank\"><span style=\"color: #7f7f7f; text-decoration-color: #7f7f7f\">__init__.py</span></a><span style=\"color: #7f7f7f; text-decoration-color: #7f7f7f\">:</span><a href=\"file:///home/rishabh/miniconda3/envs/threeml/lib/python3.9/site-packages/threeML/__init__.py#387\" target=\"_blank\"><span style=\"color: #7f7f7f; text-decoration-color: #7f7f7f\">387</span></a>\n",
       "<span style=\"color: #00ff00; text-decoration-color: #00ff00\">         </span>         <span style=\"color: #c6c6c6; text-decoration-color: #c6c6c6; font-weight: bold\">performances in 3ML                                                               </span><span style=\"color: #7f7f7f; text-decoration-color: #7f7f7f\">               </span>\n",
       "</pre>\n"
      ],
      "text/plain": [
       "\u001b[38;5;46m        \u001b[0m\u001b[38;5;46m \u001b[0m\u001b[38;5;134mWARNING \u001b[0m \u001b[1;38;5;251m Env. variable NUMEXPR_NUM_THREADS is not set. Please set it to \u001b[0m\u001b[1;37m1\u001b[0m\u001b[1;38;5;251m for optimal    \u001b[0m\u001b[1;38;5;251m \u001b[0m\u001b]8;id=240771;file:///home/rishabh/miniconda3/envs/threeml/lib/python3.9/site-packages/threeML/__init__.py\u001b\\\u001b[2m__init__.py\u001b[0m\u001b]8;;\u001b\\\u001b[2m:\u001b[0m\u001b]8;id=410821;file:///home/rishabh/miniconda3/envs/threeml/lib/python3.9/site-packages/threeML/__init__.py#387\u001b\\\u001b[2m387\u001b[0m\u001b]8;;\u001b\\\n",
       "\u001b[38;5;46m         \u001b[0m         \u001b[1;38;5;251mperformances in 3ML                                                              \u001b[0m\u001b[1;38;5;251m \u001b[0m\u001b[2m               \u001b[0m\n"
      ]
     },
     "metadata": {},
     "output_type": "display_data"
    }
   ],
   "source": [
    "import warnings\n",
    "#warnings.simplefilter(\"ignore\",category=ImportWarning)\n",
    "warnings.filterwarnings('ignore')\n",
    "\n",
    "import matplotlib.pyplot as plt\n",
    "import numpy as np\n",
    "from astropy import units\n",
    "from astropy.io import ascii\n",
    "from scipy.optimize import curve_fit\n",
    "from matplotlib.backends.backend_pdf import PdfPages \n",
    "np.seterr(all=\"ignore\")\n",
    "import math\n",
    "np.random.seed(12345)\n",
    "import band\n",
    "from threeML import *\n",
    "from threeML.io.package_data import get_path_of_data_file\n",
    "from threeML.io.logging import silence_console_log\n",
    "from astropy.io import fits\n",
    "import astromodels.functions.numba_functions as nb_func\n",
    " \n",
    "import astropy.units as astropy_units\n",
    "from astromodels.functions.function import (\n",
    "    Function1D,\n",
    "    \n",
    "    FunctionMeta,\n",
    "    ModelAssertionViolation,\n",
    ")\n",
    "from past.utils import old_div\n",
    "import astromodels.functions.functions_1D.powerlaws as pw"
   ]
  },
  {
   "cell_type": "code",
   "execution_count": 2,
   "id": "4f0b2ec7-710c-4e5c-991f-4afd8fc07815",
   "metadata": {},
   "outputs": [],
   "source": [
    "class Bandnew(Function1D, metaclass=FunctionMeta):\n",
    "    r\"\"\"\n",
    "    description :\n",
    "\n",
    "        Band model from Band et al., 1993, parametrized with the peak energy\n",
    "\n",
    "    latex : $K \\begin{cases} \\left(\\frac{x}{piv}\\right)^{\\alpha} \\exp \\left(-\\frac{(2+\\alpha) x}{x_{p}}\\right) & x \\leq (\\alpha-\\beta) \\frac{x_{p}}{(\\alpha+2)} \\\\ \\left(\\frac{x}{piv}\\right)^{\\beta} \\exp (\\beta-\\alpha)\\left[\\frac{(\\alpha-\\beta) x_{p}}{piv(2+\\alpha)}\\right]^{\\alpha-\\beta} &x>(\\alpha-\\beta) \\frac{x_{p}}{(\\alpha+2)} \\end{cases} $\n",
    "\n",
    "    parameters :\n",
    "\n",
    "        K :\n",
    "\n",
    "            desc : Differential flux at the pivot energy\n",
    "            initial value : 1e-4\n",
    "            min : 1e-50\n",
    "            is_normalization : True\n",
    "            transformation : log10\n",
    "\n",
    "        alpha :\n",
    "\n",
    "            desc : low-energy photon index\n",
    "            initial value : -1.0\n",
    "            min : -1.5\n",
    "            max : 3\n",
    "\n",
    "        xp :\n",
    "\n",
    "            desc : peak in the x * x * N (nuFnu if x is a energy)\n",
    "            initial value : 500\n",
    "            min : 10\n",
    "            transformation : log10\n",
    "\n",
    "        beta :\n",
    "\n",
    "            desc : high-energy photon index\n",
    "            initial value : -2.1\n",
    "            min : -10.0\n",
    "            max : -2.1\n",
    "\n",
    "    \"\"\"\n",
    "    \n",
    "    def _set_units(self, x_unit, y_unit):\n",
    "        self.K.unit = y_unit\n",
    "        self.xp.unit = x_unit\n",
    "        self.alpha.unit = astropy_units.dimensionless_unscaled\n",
    "        self.beta.unit = astropy_units.dimensionless_unscaled\n",
    "\n",
    "    def evaluate(self, x, K, alpha, xp, beta):\n",
    "        E0 = xp / (2 + alpha)\n",
    "        x_ = x\n",
    "        if alpha < beta:\n",
    "            alpha = beta\n",
    "            log.warning(\"Alpha is currently less than beta. Setting alpha = beta.\")\n",
    "\n",
    "        if isinstance(x, astropy_units.Quantity):\n",
    "            x_ = x.value\n",
    "            alpha_ = alpha.value\n",
    "            beta_ = beta.value\n",
    "            K_ = K.value\n",
    "            E0_ = E0.value\n",
    "            unit_ = self.y_unit\n",
    "        else:\n",
    "            unit_ = 1.0\n",
    "            alpha_, beta_, K_, x_, E0_ = alpha, beta, K, x, E0\n",
    "       \n",
    "        photar = np.empty_like(x_)\n",
    "        for i in range(len(x_)):\n",
    "            photar[i]=band.band(x_[i], alpha_, beta_, E0_, K_)\n",
    "\n",
    "        return photar*unit_\n"
   ]
  },
  {
   "cell_type": "code",
   "execution_count": 3,
   "id": "9a2c666c-e879-48e9-a8d6-77e21050e7bc",
   "metadata": {},
   "outputs": [],
   "source": [
    "import matplotlib\n",
    "font = {'family' : 'serif','weight' : 'bold','size' : 10}\n",
    "matplotlib.rc('font',**font)\n",
    "matplotlib.rc('grid',linewidth=1)\n",
    "matplotlib.rc('xtick.major',width=2)\n",
    "matplotlib.rc('xtick.major',size=5)\n",
    "matplotlib.rc('xtick.minor',width=2)\n",
    "matplotlib.rc('xtick.minor',size=3)\n",
    "matplotlib.rc('ytick.major',width=2)\n",
    "matplotlib.rc('ytick.major',size=5)\n",
    "matplotlib.rc('ytick.minor',width=2)\n",
    "matplotlib.rc('ytick.minor',size=3)\n",
    "\n",
    "threeML_config.plugins.ogip.fit_plot.model_cmap = \"Set1\"\n",
    "threeML_config.plugins.ogip.fit_plot.n_colors = 5"
   ]
  },
  {
   "cell_type": "code",
   "execution_count": 4,
   "id": "54179347-c439-4147-9d2e-53bd2ecf7f08",
   "metadata": {},
   "outputs": [],
   "source": [
    "triggerName = 'bn220426285'\n",
    "ra = 60.8542\n",
    "dec =  -75.3783"
   ]
  },
  {
   "cell_type": "code",
   "execution_count": 5,
   "id": "7b635b7d-1fb2-479c-92b6-12b091a1c373",
   "metadata": {},
   "outputs": [],
   "source": [
    "bnd = Bandnew()\n",
    "model = 'Band_new'\n",
    "spec = bnd\n",
    "\n",
    "bnd.alpha.prior = Uniform_prior(lower_bound=-1.5, upper_bound=1.0)\n",
    "bnd.beta.prior = Uniform_prior(lower_bound=-10, upper_bound=-2.1)\n",
    "bnd.xp.prior = Uniform_prior(lower_bound=100, upper_bound=2000)\n",
    "bnd.K.prior = Log_uniform_prior(lower_bound=1e-5, upper_bound=1e5)\n",
    "\n",
    "spec_model = Model(PointSource(triggerName, ra, dec, spectral_shape=spec))"
   ]
  },
  {
   "cell_type": "code",
   "execution_count": null,
   "id": "dc911636-b7d4-48fa-a3d3-ec6440aecd6d",
   "metadata": {},
   "outputs": [
    {
     "data": {
      "text/html": [
       "<pre style=\"white-space:pre;overflow-x:auto;line-height:normal;font-family:Menlo,'DejaVu Sans Mono',consolas,'Courier New',monospace\"><span style=\"color: #00ff00; text-decoration-color: #00ff00\">16:36:28 </span><span style=\"color: #af5fd7; text-decoration-color: #af5fd7\">WARNING </span> <span style=\"color: #c6c6c6; text-decoration-color: #c6c6c6; font-weight: bold\"> The default choice for MATRIX extension failed:</span><span style=\"color: #800080; text-decoration-color: #800080; font-weight: bold\">KeyError</span><span style=\"color: #c6c6c6; text-decoration-color: #c6c6c6; font-weight: bold\">(</span><span style=\"color: #5f5f5f; text-decoration-color: #5f5f5f; font-weight: bold\">\"Extension ('MATRIX', 1)</span><span style=\"color: #c6c6c6; text-decoration-color: #c6c6c6; font-weight: bold\"> </span><a href=\"file:///home/rishabh/miniconda3/envs/threeml/lib/python3.9/site-packages/threeML/utils/OGIP/response.py\" target=\"_blank\"><span style=\"color: #7f7f7f; text-decoration-color: #7f7f7f\">response.py</span></a><span style=\"color: #7f7f7f; text-decoration-color: #7f7f7f\">:</span><a href=\"file:///home/rishabh/miniconda3/envs/threeml/lib/python3.9/site-packages/threeML/utils/OGIP/response.py#476\" target=\"_blank\"><span style=\"color: #7f7f7f; text-decoration-color: #7f7f7f\">476</span></a>\n",
       "<span style=\"color: #00ff00; text-decoration-color: #00ff00\">         </span>         <span style=\"color: #5f5f5f; text-decoration-color: #5f5f5f; font-weight: bold\">not found.\"</span><span style=\"color: #c6c6c6; text-decoration-color: #c6c6c6; font-weight: bold\">)available: </span><span style=\"color: #800080; text-decoration-color: #800080; font-weight: bold; font-style: italic\">None</span><span style=\"color: #c6c6c6; text-decoration-color: #c6c6c6; font-weight: bold\"> </span><span style=\"color: #5f5f5f; text-decoration-color: #5f5f5f; font-weight: bold\">'EBOUNDS'</span><span style=\"color: #c6c6c6; text-decoration-color: #c6c6c6; font-weight: bold\"> </span><span style=\"color: #5f5f5f; text-decoration-color: #5f5f5f; font-weight: bold\">'SPECRESP MATRIX'</span><span style=\"color: #c6c6c6; text-decoration-color: #c6c6c6; font-weight: bold\"> </span><span style=\"color: #5f5f5f; text-decoration-color: #5f5f5f; font-weight: bold\">'SPECRESP MATRIX'</span><span style=\"color: #c6c6c6; text-decoration-color: #c6c6c6; font-weight: bold\">         </span><span style=\"color: #7f7f7f; text-decoration-color: #7f7f7f\">               </span>\n",
       "<span style=\"color: #00ff00; text-decoration-color: #00ff00\">         </span>         <span style=\"color: #5f5f5f; text-decoration-color: #5f5f5f; font-weight: bold\">'SPECRESP MATRIX'</span><span style=\"color: #c6c6c6; text-decoration-color: #c6c6c6; font-weight: bold\"> </span><span style=\"color: #5f5f5f; text-decoration-color: #5f5f5f; font-weight: bold\">'SPECRESP MATRIX'</span><span style=\"color: #c6c6c6; text-decoration-color: #c6c6c6; font-weight: bold\"> </span><span style=\"color: #5f5f5f; text-decoration-color: #5f5f5f; font-weight: bold\">'SPECRESP MATRIX'</span><span style=\"color: #c6c6c6; text-decoration-color: #c6c6c6; font-weight: bold\"> </span><span style=\"color: #5f5f5f; text-decoration-color: #5f5f5f; font-weight: bold\">'SPECRESP MATRIX'</span><span style=\"color: #c6c6c6; text-decoration-color: #c6c6c6; font-weight: bold\"> </span><span style=\"color: #5f5f5f; text-decoration-color: #5f5f5f; font-weight: bold\">'SPECRESP</span><span style=\"color: #c6c6c6; text-decoration-color: #c6c6c6; font-weight: bold\"> </span><span style=\"color: #7f7f7f; text-decoration-color: #7f7f7f\">               </span>\n",
       "<span style=\"color: #00ff00; text-decoration-color: #00ff00\">         </span>         <span style=\"color: #5f5f5f; text-decoration-color: #5f5f5f; font-weight: bold\">MATRIX'</span><span style=\"color: #c6c6c6; text-decoration-color: #c6c6c6; font-weight: bold\"> </span><span style=\"color: #5f5f5f; text-decoration-color: #5f5f5f; font-weight: bold\">'SPECRESP MATRIX'</span><span style=\"color: #c6c6c6; text-decoration-color: #c6c6c6; font-weight: bold\"> </span><span style=\"color: #5f5f5f; text-decoration-color: #5f5f5f; font-weight: bold\">'SPECRESP MATRIX'</span><span style=\"color: #c6c6c6; text-decoration-color: #c6c6c6; font-weight: bold\"> </span><span style=\"color: #5f5f5f; text-decoration-color: #5f5f5f; font-weight: bold\">'SPECRESP MATRIX'</span><span style=\"color: #c6c6c6; text-decoration-color: #c6c6c6; font-weight: bold\"> </span><span style=\"color: #5f5f5f; text-decoration-color: #5f5f5f; font-weight: bold\">'SPECRESP MATRIX'</span><span style=\"color: #c6c6c6; text-decoration-color: #c6c6c6; font-weight: bold\">   </span><span style=\"color: #7f7f7f; text-decoration-color: #7f7f7f\">               </span>\n",
       "</pre>\n"
      ],
      "text/plain": [
       "\u001b[38;5;46m16:36:28\u001b[0m\u001b[38;5;46m \u001b[0m\u001b[38;5;134mWARNING \u001b[0m \u001b[1;38;5;251m The default choice for MATRIX extension failed:\u001b[0m\u001b[1;35mKeyError\u001b[0m\u001b[1;38;5;251m(\u001b[0m\u001b[1;38;5;59m\"Extension \u001b[0m\u001b[1;38;5;59m(\u001b[0m\u001b[1;38;5;59m'MATRIX', 1\u001b[0m\u001b[1;38;5;59m)\u001b[0m\u001b[1;38;5;251m \u001b[0m\u001b]8;id=842862;file:///home/rishabh/miniconda3/envs/threeml/lib/python3.9/site-packages/threeML/utils/OGIP/response.py\u001b\\\u001b[2mresponse.py\u001b[0m\u001b]8;;\u001b\\\u001b[2m:\u001b[0m\u001b]8;id=850241;file:///home/rishabh/miniconda3/envs/threeml/lib/python3.9/site-packages/threeML/utils/OGIP/response.py#476\u001b\\\u001b[2m476\u001b[0m\u001b]8;;\u001b\\\n",
       "\u001b[38;5;46m         \u001b[0m         \u001b[1;38;5;59mnot found.\"\u001b[0m\u001b[1;38;5;251m)\u001b[0m\u001b[1;38;5;251mavailable: \u001b[0m\u001b[1;3;35mNone\u001b[0m\u001b[1;38;5;251m \u001b[0m\u001b[1;38;5;59m'EBOUNDS'\u001b[0m\u001b[1;38;5;251m \u001b[0m\u001b[1;38;5;59m'SPECRESP MATRIX'\u001b[0m\u001b[1;38;5;251m \u001b[0m\u001b[1;38;5;59m'SPECRESP MATRIX'\u001b[0m\u001b[1;38;5;251m        \u001b[0m\u001b[1;38;5;251m \u001b[0m\u001b[2m               \u001b[0m\n",
       "\u001b[38;5;46m         \u001b[0m         \u001b[1;38;5;59m'SPECRESP MATRIX'\u001b[0m\u001b[1;38;5;251m \u001b[0m\u001b[1;38;5;59m'SPECRESP MATRIX'\u001b[0m\u001b[1;38;5;251m \u001b[0m\u001b[1;38;5;59m'SPECRESP MATRIX'\u001b[0m\u001b[1;38;5;251m \u001b[0m\u001b[1;38;5;59m'SPECRESP MATRIX'\u001b[0m\u001b[1;38;5;251m \u001b[0m\u001b[1;38;5;59m'SPECRESP\u001b[0m\u001b[1;38;5;251m \u001b[0m\u001b[2m               \u001b[0m\n",
       "\u001b[38;5;46m         \u001b[0m         \u001b[1;38;5;59mMATRIX'\u001b[0m\u001b[1;38;5;251m \u001b[0m\u001b[1;38;5;59m'SPECRESP MATRIX'\u001b[0m\u001b[1;38;5;251m \u001b[0m\u001b[1;38;5;59m'SPECRESP MATRIX'\u001b[0m\u001b[1;38;5;251m \u001b[0m\u001b[1;38;5;59m'SPECRESP MATRIX'\u001b[0m\u001b[1;38;5;251m \u001b[0m\u001b[1;38;5;59m'SPECRESP MATRIX'\u001b[0m\u001b[1;38;5;251m  \u001b[0m\u001b[1;38;5;251m \u001b[0m\u001b[2m               \u001b[0m\n"
      ]
     },
     "metadata": {},
     "output_type": "display_data"
    },
    {
     "data": {
      "text/html": [
       "<pre style=\"white-space:pre;overflow-x:auto;line-height:normal;font-family:Menlo,'DejaVu Sans Mono',consolas,'Courier New',monospace\"><span style=\"color: #00ff00; text-decoration-color: #00ff00\">         </span><span style=\"color: #af5fd7; text-decoration-color: #af5fd7\">WARNING </span> <span style=\"color: #c6c6c6; text-decoration-color: #c6c6c6; font-weight: bold\"> Minimum MC energy (</span><span style=\"color: #c0c0c0; text-decoration-color: #c0c0c0; font-weight: bold\">5.0</span><span style=\"color: #c6c6c6; text-decoration-color: #c6c6c6; font-weight: bold\">) is larger than minimum EBOUNDS energy                    </span><a href=\"file:///home/rishabh/miniconda3/envs/threeml/lib/python3.9/site-packages/threeML/utils/OGIP/response.py\" target=\"_blank\"><span style=\"color: #7f7f7f; text-decoration-color: #7f7f7f\">response.py</span></a><span style=\"color: #7f7f7f; text-decoration-color: #7f7f7f\">:</span><a href=\"file:///home/rishabh/miniconda3/envs/threeml/lib/python3.9/site-packages/threeML/utils/OGIP/response.py#140\" target=\"_blank\"><span style=\"color: #7f7f7f; text-decoration-color: #7f7f7f\">140</span></a>\n",
       "<span style=\"color: #00ff00; text-decoration-color: #00ff00\">         </span>         <span style=\"color: #c6c6c6; text-decoration-color: #c6c6c6; font-weight: bold\">(</span><span style=\"color: #c0c0c0; text-decoration-color: #c0c0c0; font-weight: bold\">4.089000225067139</span><span style=\"color: #c6c6c6; text-decoration-color: #c6c6c6; font-weight: bold\">)                                                               </span><span style=\"color: #7f7f7f; text-decoration-color: #7f7f7f\">               </span>\n",
       "</pre>\n"
      ],
      "text/plain": [
       "\u001b[38;5;46m        \u001b[0m\u001b[38;5;46m \u001b[0m\u001b[38;5;134mWARNING \u001b[0m \u001b[1;38;5;251m Minimum MC energy \u001b[0m\u001b[1;38;5;251m(\u001b[0m\u001b[1;37m5.0\u001b[0m\u001b[1;38;5;251m)\u001b[0m\u001b[1;38;5;251m is larger than minimum EBOUNDS energy                   \u001b[0m\u001b[1;38;5;251m \u001b[0m\u001b]8;id=914995;file:///home/rishabh/miniconda3/envs/threeml/lib/python3.9/site-packages/threeML/utils/OGIP/response.py\u001b\\\u001b[2mresponse.py\u001b[0m\u001b]8;;\u001b\\\u001b[2m:\u001b[0m\u001b]8;id=591755;file:///home/rishabh/miniconda3/envs/threeml/lib/python3.9/site-packages/threeML/utils/OGIP/response.py#140\u001b\\\u001b[2m140\u001b[0m\u001b]8;;\u001b\\\n",
       "\u001b[38;5;46m         \u001b[0m         \u001b[1;38;5;251m(\u001b[0m\u001b[1;37m4.089000225067139\u001b[0m\u001b[1;38;5;251m)\u001b[0m\u001b[1;38;5;251m                                                              \u001b[0m\u001b[1;38;5;251m \u001b[0m\u001b[2m               \u001b[0m\n"
      ]
     },
     "metadata": {},
     "output_type": "display_data"
    },
    {
     "data": {
      "text/html": [
       "<pre style=\"white-space:pre;overflow-x:auto;line-height:normal;font-family:Menlo,'DejaVu Sans Mono',consolas,'Courier New',monospace\"><span style=\"color: #00ff00; text-decoration-color: #00ff00\">         </span><span style=\"color: #00ffaf; text-decoration-color: #00ffaf\">INFO    </span> <span style=\"color: #c6c6c6; text-decoration-color: #c6c6c6; font-weight: bold\"> Auto-probed noise models:                                                    </span><a href=\"file:///home/rishabh/miniconda3/envs/threeml/lib/python3.9/site-packages/threeML/plugins/SpectrumLike.py\" target=\"_blank\"><span style=\"color: #7f7f7f; text-decoration-color: #7f7f7f\">SpectrumLike.py</span></a><span style=\"color: #7f7f7f; text-decoration-color: #7f7f7f\">:</span><a href=\"file:///home/rishabh/miniconda3/envs/threeml/lib/python3.9/site-packages/threeML/plugins/SpectrumLike.py#490\" target=\"_blank\"><span style=\"color: #7f7f7f; text-decoration-color: #7f7f7f\">490</span></a>\n",
       "</pre>\n"
      ],
      "text/plain": [
       "\u001b[38;5;46m        \u001b[0m\u001b[38;5;46m \u001b[0m\u001b[38;5;49mINFO    \u001b[0m \u001b[1;38;5;251m Auto-probed noise models:                                                   \u001b[0m\u001b[1;38;5;251m \u001b[0m\u001b]8;id=335809;file:///home/rishabh/miniconda3/envs/threeml/lib/python3.9/site-packages/threeML/plugins/SpectrumLike.py\u001b\\\u001b[2mSpectrumLike.py\u001b[0m\u001b]8;;\u001b\\\u001b[2m:\u001b[0m\u001b]8;id=17235;file:///home/rishabh/miniconda3/envs/threeml/lib/python3.9/site-packages/threeML/plugins/SpectrumLike.py#490\u001b\\\u001b[2m490\u001b[0m\u001b]8;;\u001b\\\n"
      ]
     },
     "metadata": {},
     "output_type": "display_data"
    },
    {
     "data": {
      "text/html": [
       "<pre style=\"white-space:pre;overflow-x:auto;line-height:normal;font-family:Menlo,'DejaVu Sans Mono',consolas,'Courier New',monospace\"><span style=\"color: #00ff00; text-decoration-color: #00ff00\">         </span><span style=\"color: #00ffaf; text-decoration-color: #00ffaf\">INFO    </span> <span style=\"color: #c6c6c6; text-decoration-color: #c6c6c6; font-weight: bold\"> - observation: poisson                                                       </span><a href=\"file:///home/rishabh/miniconda3/envs/threeml/lib/python3.9/site-packages/threeML/plugins/SpectrumLike.py\" target=\"_blank\"><span style=\"color: #7f7f7f; text-decoration-color: #7f7f7f\">SpectrumLike.py</span></a><span style=\"color: #7f7f7f; text-decoration-color: #7f7f7f\">:</span><a href=\"file:///home/rishabh/miniconda3/envs/threeml/lib/python3.9/site-packages/threeML/plugins/SpectrumLike.py#491\" target=\"_blank\"><span style=\"color: #7f7f7f; text-decoration-color: #7f7f7f\">491</span></a>\n",
       "</pre>\n"
      ],
      "text/plain": [
       "\u001b[38;5;46m        \u001b[0m\u001b[38;5;46m \u001b[0m\u001b[38;5;49mINFO    \u001b[0m \u001b[1;38;5;251m - observation: poisson                                                      \u001b[0m\u001b[1;38;5;251m \u001b[0m\u001b]8;id=170574;file:///home/rishabh/miniconda3/envs/threeml/lib/python3.9/site-packages/threeML/plugins/SpectrumLike.py\u001b\\\u001b[2mSpectrumLike.py\u001b[0m\u001b]8;;\u001b\\\u001b[2m:\u001b[0m\u001b]8;id=131413;file:///home/rishabh/miniconda3/envs/threeml/lib/python3.9/site-packages/threeML/plugins/SpectrumLike.py#491\u001b\\\u001b[2m491\u001b[0m\u001b]8;;\u001b\\\n"
      ]
     },
     "metadata": {},
     "output_type": "display_data"
    },
    {
     "data": {
      "text/html": [
       "<pre style=\"white-space:pre;overflow-x:auto;line-height:normal;font-family:Menlo,'DejaVu Sans Mono',consolas,'Courier New',monospace\"><span style=\"color: #00ff00; text-decoration-color: #00ff00\">         </span><span style=\"color: #00ffaf; text-decoration-color: #00ffaf\">INFO    </span> <span style=\"color: #c6c6c6; text-decoration-color: #c6c6c6; font-weight: bold\"> - background: gaussian                                                       </span><a href=\"file:///home/rishabh/miniconda3/envs/threeml/lib/python3.9/site-packages/threeML/plugins/SpectrumLike.py\" target=\"_blank\"><span style=\"color: #7f7f7f; text-decoration-color: #7f7f7f\">SpectrumLike.py</span></a><span style=\"color: #7f7f7f; text-decoration-color: #7f7f7f\">:</span><a href=\"file:///home/rishabh/miniconda3/envs/threeml/lib/python3.9/site-packages/threeML/plugins/SpectrumLike.py#492\" target=\"_blank\"><span style=\"color: #7f7f7f; text-decoration-color: #7f7f7f\">492</span></a>\n",
       "</pre>\n"
      ],
      "text/plain": [
       "\u001b[38;5;46m        \u001b[0m\u001b[38;5;46m \u001b[0m\u001b[38;5;49mINFO    \u001b[0m \u001b[1;38;5;251m - background: gaussian                                                      \u001b[0m\u001b[1;38;5;251m \u001b[0m\u001b]8;id=55501;file:///home/rishabh/miniconda3/envs/threeml/lib/python3.9/site-packages/threeML/plugins/SpectrumLike.py\u001b\\\u001b[2mSpectrumLike.py\u001b[0m\u001b]8;;\u001b\\\u001b[2m:\u001b[0m\u001b]8;id=788523;file:///home/rishabh/miniconda3/envs/threeml/lib/python3.9/site-packages/threeML/plugins/SpectrumLike.py#492\u001b\\\u001b[2m492\u001b[0m\u001b]8;;\u001b\\\n"
      ]
     },
     "metadata": {},
     "output_type": "display_data"
    },
    {
     "data": {
      "text/html": [
       "<pre style=\"white-space:pre;overflow-x:auto;line-height:normal;font-family:Menlo,'DejaVu Sans Mono',consolas,'Courier New',monospace\"><span style=\"color: #00ff00; text-decoration-color: #00ff00\">         </span><span style=\"color: #af5fd7; text-decoration-color: #af5fd7\">WARNING </span> <span style=\"color: #c6c6c6; text-decoration-color: #c6c6c6; font-weight: bold\"> The default choice for MATRIX extension failed:</span><span style=\"color: #800080; text-decoration-color: #800080; font-weight: bold\">KeyError</span><span style=\"color: #c6c6c6; text-decoration-color: #c6c6c6; font-weight: bold\">(</span><span style=\"color: #5f5f5f; text-decoration-color: #5f5f5f; font-weight: bold\">\"Extension ('MATRIX', 1)</span><span style=\"color: #c6c6c6; text-decoration-color: #c6c6c6; font-weight: bold\"> </span><a href=\"file:///home/rishabh/miniconda3/envs/threeml/lib/python3.9/site-packages/threeML/utils/OGIP/response.py\" target=\"_blank\"><span style=\"color: #7f7f7f; text-decoration-color: #7f7f7f\">response.py</span></a><span style=\"color: #7f7f7f; text-decoration-color: #7f7f7f\">:</span><a href=\"file:///home/rishabh/miniconda3/envs/threeml/lib/python3.9/site-packages/threeML/utils/OGIP/response.py#476\" target=\"_blank\"><span style=\"color: #7f7f7f; text-decoration-color: #7f7f7f\">476</span></a>\n",
       "<span style=\"color: #00ff00; text-decoration-color: #00ff00\">         </span>         <span style=\"color: #5f5f5f; text-decoration-color: #5f5f5f; font-weight: bold\">not found.\"</span><span style=\"color: #c6c6c6; text-decoration-color: #c6c6c6; font-weight: bold\">)available: </span><span style=\"color: #800080; text-decoration-color: #800080; font-weight: bold; font-style: italic\">None</span><span style=\"color: #c6c6c6; text-decoration-color: #c6c6c6; font-weight: bold\"> </span><span style=\"color: #5f5f5f; text-decoration-color: #5f5f5f; font-weight: bold\">'EBOUNDS'</span><span style=\"color: #c6c6c6; text-decoration-color: #c6c6c6; font-weight: bold\"> </span><span style=\"color: #5f5f5f; text-decoration-color: #5f5f5f; font-weight: bold\">'SPECRESP MATRIX'</span><span style=\"color: #c6c6c6; text-decoration-color: #c6c6c6; font-weight: bold\"> </span><span style=\"color: #5f5f5f; text-decoration-color: #5f5f5f; font-weight: bold\">'SPECRESP MATRIX'</span><span style=\"color: #c6c6c6; text-decoration-color: #c6c6c6; font-weight: bold\">         </span><span style=\"color: #7f7f7f; text-decoration-color: #7f7f7f\">               </span>\n",
       "<span style=\"color: #00ff00; text-decoration-color: #00ff00\">         </span>         <span style=\"color: #5f5f5f; text-decoration-color: #5f5f5f; font-weight: bold\">'SPECRESP MATRIX'</span><span style=\"color: #c6c6c6; text-decoration-color: #c6c6c6; font-weight: bold\"> </span><span style=\"color: #5f5f5f; text-decoration-color: #5f5f5f; font-weight: bold\">'SPECRESP MATRIX'</span><span style=\"color: #c6c6c6; text-decoration-color: #c6c6c6; font-weight: bold\"> </span><span style=\"color: #5f5f5f; text-decoration-color: #5f5f5f; font-weight: bold\">'SPECRESP MATRIX'</span><span style=\"color: #c6c6c6; text-decoration-color: #c6c6c6; font-weight: bold\"> </span><span style=\"color: #5f5f5f; text-decoration-color: #5f5f5f; font-weight: bold\">'SPECRESP MATRIX'</span><span style=\"color: #c6c6c6; text-decoration-color: #c6c6c6; font-weight: bold\"> </span><span style=\"color: #5f5f5f; text-decoration-color: #5f5f5f; font-weight: bold\">'SPECRESP</span><span style=\"color: #c6c6c6; text-decoration-color: #c6c6c6; font-weight: bold\"> </span><span style=\"color: #7f7f7f; text-decoration-color: #7f7f7f\">               </span>\n",
       "<span style=\"color: #00ff00; text-decoration-color: #00ff00\">         </span>         <span style=\"color: #5f5f5f; text-decoration-color: #5f5f5f; font-weight: bold\">MATRIX'</span><span style=\"color: #c6c6c6; text-decoration-color: #c6c6c6; font-weight: bold\"> </span><span style=\"color: #5f5f5f; text-decoration-color: #5f5f5f; font-weight: bold\">'SPECRESP MATRIX'</span><span style=\"color: #c6c6c6; text-decoration-color: #c6c6c6; font-weight: bold\"> </span><span style=\"color: #5f5f5f; text-decoration-color: #5f5f5f; font-weight: bold\">'SPECRESP MATRIX'</span><span style=\"color: #c6c6c6; text-decoration-color: #c6c6c6; font-weight: bold\"> </span><span style=\"color: #5f5f5f; text-decoration-color: #5f5f5f; font-weight: bold\">'SPECRESP MATRIX'</span><span style=\"color: #c6c6c6; text-decoration-color: #c6c6c6; font-weight: bold\"> </span><span style=\"color: #5f5f5f; text-decoration-color: #5f5f5f; font-weight: bold\">'SPECRESP MATRIX'</span><span style=\"color: #c6c6c6; text-decoration-color: #c6c6c6; font-weight: bold\">   </span><span style=\"color: #7f7f7f; text-decoration-color: #7f7f7f\">               </span>\n",
       "</pre>\n"
      ],
      "text/plain": [
       "\u001b[38;5;46m        \u001b[0m\u001b[38;5;46m \u001b[0m\u001b[38;5;134mWARNING \u001b[0m \u001b[1;38;5;251m The default choice for MATRIX extension failed:\u001b[0m\u001b[1;35mKeyError\u001b[0m\u001b[1;38;5;251m(\u001b[0m\u001b[1;38;5;59m\"Extension \u001b[0m\u001b[1;38;5;59m(\u001b[0m\u001b[1;38;5;59m'MATRIX', 1\u001b[0m\u001b[1;38;5;59m)\u001b[0m\u001b[1;38;5;251m \u001b[0m\u001b]8;id=105550;file:///home/rishabh/miniconda3/envs/threeml/lib/python3.9/site-packages/threeML/utils/OGIP/response.py\u001b\\\u001b[2mresponse.py\u001b[0m\u001b]8;;\u001b\\\u001b[2m:\u001b[0m\u001b]8;id=955237;file:///home/rishabh/miniconda3/envs/threeml/lib/python3.9/site-packages/threeML/utils/OGIP/response.py#476\u001b\\\u001b[2m476\u001b[0m\u001b]8;;\u001b\\\n",
       "\u001b[38;5;46m         \u001b[0m         \u001b[1;38;5;59mnot found.\"\u001b[0m\u001b[1;38;5;251m)\u001b[0m\u001b[1;38;5;251mavailable: \u001b[0m\u001b[1;3;35mNone\u001b[0m\u001b[1;38;5;251m \u001b[0m\u001b[1;38;5;59m'EBOUNDS'\u001b[0m\u001b[1;38;5;251m \u001b[0m\u001b[1;38;5;59m'SPECRESP MATRIX'\u001b[0m\u001b[1;38;5;251m \u001b[0m\u001b[1;38;5;59m'SPECRESP MATRIX'\u001b[0m\u001b[1;38;5;251m        \u001b[0m\u001b[1;38;5;251m \u001b[0m\u001b[2m               \u001b[0m\n",
       "\u001b[38;5;46m         \u001b[0m         \u001b[1;38;5;59m'SPECRESP MATRIX'\u001b[0m\u001b[1;38;5;251m \u001b[0m\u001b[1;38;5;59m'SPECRESP MATRIX'\u001b[0m\u001b[1;38;5;251m \u001b[0m\u001b[1;38;5;59m'SPECRESP MATRIX'\u001b[0m\u001b[1;38;5;251m \u001b[0m\u001b[1;38;5;59m'SPECRESP MATRIX'\u001b[0m\u001b[1;38;5;251m \u001b[0m\u001b[1;38;5;59m'SPECRESP\u001b[0m\u001b[1;38;5;251m \u001b[0m\u001b[2m               \u001b[0m\n",
       "\u001b[38;5;46m         \u001b[0m         \u001b[1;38;5;59mMATRIX'\u001b[0m\u001b[1;38;5;251m \u001b[0m\u001b[1;38;5;59m'SPECRESP MATRIX'\u001b[0m\u001b[1;38;5;251m \u001b[0m\u001b[1;38;5;59m'SPECRESP MATRIX'\u001b[0m\u001b[1;38;5;251m \u001b[0m\u001b[1;38;5;59m'SPECRESP MATRIX'\u001b[0m\u001b[1;38;5;251m \u001b[0m\u001b[1;38;5;59m'SPECRESP MATRIX'\u001b[0m\u001b[1;38;5;251m  \u001b[0m\u001b[1;38;5;251m \u001b[0m\u001b[2m               \u001b[0m\n"
      ]
     },
     "metadata": {},
     "output_type": "display_data"
    },
    {
     "data": {
      "text/html": [
       "<pre style=\"white-space:pre;overflow-x:auto;line-height:normal;font-family:Menlo,'DejaVu Sans Mono',consolas,'Courier New',monospace\"><span style=\"color: #00ff00; text-decoration-color: #00ff00\">         </span><span style=\"color: #af5fd7; text-decoration-color: #af5fd7\">WARNING </span> <span style=\"color: #c6c6c6; text-decoration-color: #c6c6c6; font-weight: bold\"> Minimum MC energy (</span><span style=\"color: #c0c0c0; text-decoration-color: #c0c0c0; font-weight: bold\">5.0</span><span style=\"color: #c6c6c6; text-decoration-color: #c6c6c6; font-weight: bold\">) is larger than minimum EBOUNDS energy                    </span><a href=\"file:///home/rishabh/miniconda3/envs/threeml/lib/python3.9/site-packages/threeML/utils/OGIP/response.py\" target=\"_blank\"><span style=\"color: #7f7f7f; text-decoration-color: #7f7f7f\">response.py</span></a><span style=\"color: #7f7f7f; text-decoration-color: #7f7f7f\">:</span><a href=\"file:///home/rishabh/miniconda3/envs/threeml/lib/python3.9/site-packages/threeML/utils/OGIP/response.py#140\" target=\"_blank\"><span style=\"color: #7f7f7f; text-decoration-color: #7f7f7f\">140</span></a>\n",
       "<span style=\"color: #00ff00; text-decoration-color: #00ff00\">         </span>         <span style=\"color: #c6c6c6; text-decoration-color: #c6c6c6; font-weight: bold\">(</span><span style=\"color: #c0c0c0; text-decoration-color: #c0c0c0; font-weight: bold\">4.666999816894531</span><span style=\"color: #c6c6c6; text-decoration-color: #c6c6c6; font-weight: bold\">)                                                               </span><span style=\"color: #7f7f7f; text-decoration-color: #7f7f7f\">               </span>\n",
       "</pre>\n"
      ],
      "text/plain": [
       "\u001b[38;5;46m        \u001b[0m\u001b[38;5;46m \u001b[0m\u001b[38;5;134mWARNING \u001b[0m \u001b[1;38;5;251m Minimum MC energy \u001b[0m\u001b[1;38;5;251m(\u001b[0m\u001b[1;37m5.0\u001b[0m\u001b[1;38;5;251m)\u001b[0m\u001b[1;38;5;251m is larger than minimum EBOUNDS energy                   \u001b[0m\u001b[1;38;5;251m \u001b[0m\u001b]8;id=458586;file:///home/rishabh/miniconda3/envs/threeml/lib/python3.9/site-packages/threeML/utils/OGIP/response.py\u001b\\\u001b[2mresponse.py\u001b[0m\u001b]8;;\u001b\\\u001b[2m:\u001b[0m\u001b]8;id=41456;file:///home/rishabh/miniconda3/envs/threeml/lib/python3.9/site-packages/threeML/utils/OGIP/response.py#140\u001b\\\u001b[2m140\u001b[0m\u001b]8;;\u001b\\\n",
       "\u001b[38;5;46m         \u001b[0m         \u001b[1;38;5;251m(\u001b[0m\u001b[1;37m4.666999816894531\u001b[0m\u001b[1;38;5;251m)\u001b[0m\u001b[1;38;5;251m                                                              \u001b[0m\u001b[1;38;5;251m \u001b[0m\u001b[2m               \u001b[0m\n"
      ]
     },
     "metadata": {},
     "output_type": "display_data"
    },
    {
     "data": {
      "text/html": [
       "<pre style=\"white-space:pre;overflow-x:auto;line-height:normal;font-family:Menlo,'DejaVu Sans Mono',consolas,'Courier New',monospace\"><span style=\"color: #00ff00; text-decoration-color: #00ff00\">         </span><span style=\"color: #00ffaf; text-decoration-color: #00ffaf\">INFO    </span> <span style=\"color: #c6c6c6; text-decoration-color: #c6c6c6; font-weight: bold\"> Auto-probed noise models:                                                    </span><a href=\"file:///home/rishabh/miniconda3/envs/threeml/lib/python3.9/site-packages/threeML/plugins/SpectrumLike.py\" target=\"_blank\"><span style=\"color: #7f7f7f; text-decoration-color: #7f7f7f\">SpectrumLike.py</span></a><span style=\"color: #7f7f7f; text-decoration-color: #7f7f7f\">:</span><a href=\"file:///home/rishabh/miniconda3/envs/threeml/lib/python3.9/site-packages/threeML/plugins/SpectrumLike.py#490\" target=\"_blank\"><span style=\"color: #7f7f7f; text-decoration-color: #7f7f7f\">490</span></a>\n",
       "</pre>\n"
      ],
      "text/plain": [
       "\u001b[38;5;46m        \u001b[0m\u001b[38;5;46m \u001b[0m\u001b[38;5;49mINFO    \u001b[0m \u001b[1;38;5;251m Auto-probed noise models:                                                   \u001b[0m\u001b[1;38;5;251m \u001b[0m\u001b]8;id=211057;file:///home/rishabh/miniconda3/envs/threeml/lib/python3.9/site-packages/threeML/plugins/SpectrumLike.py\u001b\\\u001b[2mSpectrumLike.py\u001b[0m\u001b]8;;\u001b\\\u001b[2m:\u001b[0m\u001b]8;id=956686;file:///home/rishabh/miniconda3/envs/threeml/lib/python3.9/site-packages/threeML/plugins/SpectrumLike.py#490\u001b\\\u001b[2m490\u001b[0m\u001b]8;;\u001b\\\n"
      ]
     },
     "metadata": {},
     "output_type": "display_data"
    },
    {
     "data": {
      "text/html": [
       "<pre style=\"white-space:pre;overflow-x:auto;line-height:normal;font-family:Menlo,'DejaVu Sans Mono',consolas,'Courier New',monospace\"><span style=\"color: #00ff00; text-decoration-color: #00ff00\">         </span><span style=\"color: #00ffaf; text-decoration-color: #00ffaf\">INFO    </span> <span style=\"color: #c6c6c6; text-decoration-color: #c6c6c6; font-weight: bold\"> - observation: poisson                                                       </span><a href=\"file:///home/rishabh/miniconda3/envs/threeml/lib/python3.9/site-packages/threeML/plugins/SpectrumLike.py\" target=\"_blank\"><span style=\"color: #7f7f7f; text-decoration-color: #7f7f7f\">SpectrumLike.py</span></a><span style=\"color: #7f7f7f; text-decoration-color: #7f7f7f\">:</span><a href=\"file:///home/rishabh/miniconda3/envs/threeml/lib/python3.9/site-packages/threeML/plugins/SpectrumLike.py#491\" target=\"_blank\"><span style=\"color: #7f7f7f; text-decoration-color: #7f7f7f\">491</span></a>\n",
       "</pre>\n"
      ],
      "text/plain": [
       "\u001b[38;5;46m        \u001b[0m\u001b[38;5;46m \u001b[0m\u001b[38;5;49mINFO    \u001b[0m \u001b[1;38;5;251m - observation: poisson                                                      \u001b[0m\u001b[1;38;5;251m \u001b[0m\u001b]8;id=537963;file:///home/rishabh/miniconda3/envs/threeml/lib/python3.9/site-packages/threeML/plugins/SpectrumLike.py\u001b\\\u001b[2mSpectrumLike.py\u001b[0m\u001b]8;;\u001b\\\u001b[2m:\u001b[0m\u001b]8;id=748651;file:///home/rishabh/miniconda3/envs/threeml/lib/python3.9/site-packages/threeML/plugins/SpectrumLike.py#491\u001b\\\u001b[2m491\u001b[0m\u001b]8;;\u001b\\\n"
      ]
     },
     "metadata": {},
     "output_type": "display_data"
    },
    {
     "data": {
      "text/html": [
       "<pre style=\"white-space:pre;overflow-x:auto;line-height:normal;font-family:Menlo,'DejaVu Sans Mono',consolas,'Courier New',monospace\"><span style=\"color: #00ff00; text-decoration-color: #00ff00\">         </span><span style=\"color: #00ffaf; text-decoration-color: #00ffaf\">INFO    </span> <span style=\"color: #c6c6c6; text-decoration-color: #c6c6c6; font-weight: bold\"> - background: gaussian                                                       </span><a href=\"file:///home/rishabh/miniconda3/envs/threeml/lib/python3.9/site-packages/threeML/plugins/SpectrumLike.py\" target=\"_blank\"><span style=\"color: #7f7f7f; text-decoration-color: #7f7f7f\">SpectrumLike.py</span></a><span style=\"color: #7f7f7f; text-decoration-color: #7f7f7f\">:</span><a href=\"file:///home/rishabh/miniconda3/envs/threeml/lib/python3.9/site-packages/threeML/plugins/SpectrumLike.py#492\" target=\"_blank\"><span style=\"color: #7f7f7f; text-decoration-color: #7f7f7f\">492</span></a>\n",
       "</pre>\n"
      ],
      "text/plain": [
       "\u001b[38;5;46m        \u001b[0m\u001b[38;5;46m \u001b[0m\u001b[38;5;49mINFO    \u001b[0m \u001b[1;38;5;251m - background: gaussian                                                      \u001b[0m\u001b[1;38;5;251m \u001b[0m\u001b]8;id=795581;file:///home/rishabh/miniconda3/envs/threeml/lib/python3.9/site-packages/threeML/plugins/SpectrumLike.py\u001b\\\u001b[2mSpectrumLike.py\u001b[0m\u001b]8;;\u001b\\\u001b[2m:\u001b[0m\u001b]8;id=138432;file:///home/rishabh/miniconda3/envs/threeml/lib/python3.9/site-packages/threeML/plugins/SpectrumLike.py#492\u001b\\\u001b[2m492\u001b[0m\u001b]8;;\u001b\\\n"
      ]
     },
     "metadata": {},
     "output_type": "display_data"
    },
    {
     "data": {
      "text/html": [
       "<pre style=\"white-space:pre;overflow-x:auto;line-height:normal;font-family:Menlo,'DejaVu Sans Mono',consolas,'Courier New',monospace\"><span style=\"color: #00ff00; text-decoration-color: #00ff00\">         </span><span style=\"color: #00ffaf; text-decoration-color: #00ffaf\">INFO    </span> <span style=\"color: #c6c6c6; text-decoration-color: #c6c6c6; font-weight: bold\"> Range </span><span style=\"color: #c0c0c0; text-decoration-color: #c0c0c0; font-weight: bold\">8</span><span style=\"color: #c6c6c6; text-decoration-color: #c6c6c6; font-weight: bold\">-</span><span style=\"color: #c0c0c0; text-decoration-color: #c0c0c0; font-weight: bold\">30</span><span style=\"color: #c6c6c6; text-decoration-color: #c6c6c6; font-weight: bold\"> translates to channels </span><span style=\"color: #c0c0c0; text-decoration-color: #c0c0c0; font-weight: bold\">4</span><span style=\"color: #c6c6c6; text-decoration-color: #c6c6c6; font-weight: bold\">-</span><span style=\"color: #c0c0c0; text-decoration-color: #c0c0c0; font-weight: bold\">22</span><span style=\"color: #c6c6c6; text-decoration-color: #c6c6c6; font-weight: bold\">                                      </span><a href=\"file:///home/rishabh/miniconda3/envs/threeml/lib/python3.9/site-packages/threeML/plugins/SpectrumLike.py\" target=\"_blank\"><span style=\"color: #7f7f7f; text-decoration-color: #7f7f7f\">SpectrumLike.py</span></a><span style=\"color: #7f7f7f; text-decoration-color: #7f7f7f\">:</span><a href=\"file:///home/rishabh/miniconda3/envs/threeml/lib/python3.9/site-packages/threeML/plugins/SpectrumLike.py#1247\" target=\"_blank\"><span style=\"color: #7f7f7f; text-decoration-color: #7f7f7f\">1247</span></a>\n",
       "</pre>\n"
      ],
      "text/plain": [
       "\u001b[38;5;46m        \u001b[0m\u001b[38;5;46m \u001b[0m\u001b[38;5;49mINFO    \u001b[0m \u001b[1;38;5;251m Range \u001b[0m\u001b[1;37m8\u001b[0m\u001b[1;38;5;251m-\u001b[0m\u001b[1;37m30\u001b[0m\u001b[1;38;5;251m translates to channels \u001b[0m\u001b[1;37m4\u001b[0m\u001b[1;38;5;251m-\u001b[0m\u001b[1;37m22\u001b[0m\u001b[1;38;5;251m                                     \u001b[0m\u001b[1;38;5;251m \u001b[0m\u001b]8;id=930749;file:///home/rishabh/miniconda3/envs/threeml/lib/python3.9/site-packages/threeML/plugins/SpectrumLike.py\u001b\\\u001b[2mSpectrumLike.py\u001b[0m\u001b]8;;\u001b\\\u001b[2m:\u001b[0m\u001b]8;id=237057;file:///home/rishabh/miniconda3/envs/threeml/lib/python3.9/site-packages/threeML/plugins/SpectrumLike.py#1247\u001b\\\u001b[2m1247\u001b[0m\u001b]8;;\u001b\\\n"
      ]
     },
     "metadata": {},
     "output_type": "display_data"
    },
    {
     "data": {
      "text/html": [
       "<pre style=\"white-space:pre;overflow-x:auto;line-height:normal;font-family:Menlo,'DejaVu Sans Mono',consolas,'Courier New',monospace\"><span style=\"color: #00ff00; text-decoration-color: #00ff00\">         </span><span style=\"color: #00ffaf; text-decoration-color: #00ffaf\">INFO    </span> <span style=\"color: #c6c6c6; text-decoration-color: #c6c6c6; font-weight: bold\"> Range </span><span style=\"color: #c0c0c0; text-decoration-color: #c0c0c0; font-weight: bold\">40</span><span style=\"color: #c6c6c6; text-decoration-color: #c6c6c6; font-weight: bold\">-</span><span style=\"color: #c0c0c0; text-decoration-color: #c0c0c0; font-weight: bold\">900</span><span style=\"color: #c6c6c6; text-decoration-color: #c6c6c6; font-weight: bold\"> translates to channels </span><span style=\"color: #c0c0c0; text-decoration-color: #c0c0c0; font-weight: bold\">27</span><span style=\"color: #c6c6c6; text-decoration-color: #c6c6c6; font-weight: bold\">-</span><span style=\"color: #c0c0c0; text-decoration-color: #c0c0c0; font-weight: bold\">124</span><span style=\"color: #c6c6c6; text-decoration-color: #c6c6c6; font-weight: bold\">                                  </span><a href=\"file:///home/rishabh/miniconda3/envs/threeml/lib/python3.9/site-packages/threeML/plugins/SpectrumLike.py\" target=\"_blank\"><span style=\"color: #7f7f7f; text-decoration-color: #7f7f7f\">SpectrumLike.py</span></a><span style=\"color: #7f7f7f; text-decoration-color: #7f7f7f\">:</span><a href=\"file:///home/rishabh/miniconda3/envs/threeml/lib/python3.9/site-packages/threeML/plugins/SpectrumLike.py#1247\" target=\"_blank\"><span style=\"color: #7f7f7f; text-decoration-color: #7f7f7f\">1247</span></a>\n",
       "</pre>\n"
      ],
      "text/plain": [
       "\u001b[38;5;46m        \u001b[0m\u001b[38;5;46m \u001b[0m\u001b[38;5;49mINFO    \u001b[0m \u001b[1;38;5;251m Range \u001b[0m\u001b[1;37m40\u001b[0m\u001b[1;38;5;251m-\u001b[0m\u001b[1;37m900\u001b[0m\u001b[1;38;5;251m translates to channels \u001b[0m\u001b[1;37m27\u001b[0m\u001b[1;38;5;251m-\u001b[0m\u001b[1;37m124\u001b[0m\u001b[1;38;5;251m                                 \u001b[0m\u001b[1;38;5;251m \u001b[0m\u001b]8;id=709735;file:///home/rishabh/miniconda3/envs/threeml/lib/python3.9/site-packages/threeML/plugins/SpectrumLike.py\u001b\\\u001b[2mSpectrumLike.py\u001b[0m\u001b]8;;\u001b\\\u001b[2m:\u001b[0m\u001b]8;id=947473;file:///home/rishabh/miniconda3/envs/threeml/lib/python3.9/site-packages/threeML/plugins/SpectrumLike.py#1247\u001b\\\u001b[2m1247\u001b[0m\u001b]8;;\u001b\\\n"
      ]
     },
     "metadata": {},
     "output_type": "display_data"
    },
    {
     "data": {
      "text/html": [
       "<pre style=\"white-space:pre;overflow-x:auto;line-height:normal;font-family:Menlo,'DejaVu Sans Mono',consolas,'Courier New',monospace\"><span style=\"color: #00ff00; text-decoration-color: #00ff00\">         </span><span style=\"color: #00ffaf; text-decoration-color: #00ffaf\">INFO    </span> <span style=\"color: #c6c6c6; text-decoration-color: #c6c6c6; font-weight: bold\"> Range </span><span style=\"color: #c0c0c0; text-decoration-color: #c0c0c0; font-weight: bold\">8</span><span style=\"color: #c6c6c6; text-decoration-color: #c6c6c6; font-weight: bold\">-</span><span style=\"color: #c0c0c0; text-decoration-color: #c0c0c0; font-weight: bold\">30</span><span style=\"color: #c6c6c6; text-decoration-color: #c6c6c6; font-weight: bold\"> translates to channels </span><span style=\"color: #c0c0c0; text-decoration-color: #c0c0c0; font-weight: bold\">3</span><span style=\"color: #c6c6c6; text-decoration-color: #c6c6c6; font-weight: bold\">-</span><span style=\"color: #c0c0c0; text-decoration-color: #c0c0c0; font-weight: bold\">21</span><span style=\"color: #c6c6c6; text-decoration-color: #c6c6c6; font-weight: bold\">                                      </span><a href=\"file:///home/rishabh/miniconda3/envs/threeml/lib/python3.9/site-packages/threeML/plugins/SpectrumLike.py\" target=\"_blank\"><span style=\"color: #7f7f7f; text-decoration-color: #7f7f7f\">SpectrumLike.py</span></a><span style=\"color: #7f7f7f; text-decoration-color: #7f7f7f\">:</span><a href=\"file:///home/rishabh/miniconda3/envs/threeml/lib/python3.9/site-packages/threeML/plugins/SpectrumLike.py#1247\" target=\"_blank\"><span style=\"color: #7f7f7f; text-decoration-color: #7f7f7f\">1247</span></a>\n",
       "</pre>\n"
      ],
      "text/plain": [
       "\u001b[38;5;46m        \u001b[0m\u001b[38;5;46m \u001b[0m\u001b[38;5;49mINFO    \u001b[0m \u001b[1;38;5;251m Range \u001b[0m\u001b[1;37m8\u001b[0m\u001b[1;38;5;251m-\u001b[0m\u001b[1;37m30\u001b[0m\u001b[1;38;5;251m translates to channels \u001b[0m\u001b[1;37m3\u001b[0m\u001b[1;38;5;251m-\u001b[0m\u001b[1;37m21\u001b[0m\u001b[1;38;5;251m                                     \u001b[0m\u001b[1;38;5;251m \u001b[0m\u001b]8;id=619829;file:///home/rishabh/miniconda3/envs/threeml/lib/python3.9/site-packages/threeML/plugins/SpectrumLike.py\u001b\\\u001b[2mSpectrumLike.py\u001b[0m\u001b]8;;\u001b\\\u001b[2m:\u001b[0m\u001b]8;id=752286;file:///home/rishabh/miniconda3/envs/threeml/lib/python3.9/site-packages/threeML/plugins/SpectrumLike.py#1247\u001b\\\u001b[2m1247\u001b[0m\u001b]8;;\u001b\\\n"
      ]
     },
     "metadata": {},
     "output_type": "display_data"
    },
    {
     "data": {
      "text/html": [
       "<pre style=\"white-space:pre;overflow-x:auto;line-height:normal;font-family:Menlo,'DejaVu Sans Mono',consolas,'Courier New',monospace\"><span style=\"color: #00ff00; text-decoration-color: #00ff00\">         </span><span style=\"color: #00ffaf; text-decoration-color: #00ffaf\">INFO    </span> <span style=\"color: #c6c6c6; text-decoration-color: #c6c6c6; font-weight: bold\"> Range </span><span style=\"color: #c0c0c0; text-decoration-color: #c0c0c0; font-weight: bold\">40</span><span style=\"color: #c6c6c6; text-decoration-color: #c6c6c6; font-weight: bold\">-</span><span style=\"color: #c0c0c0; text-decoration-color: #c0c0c0; font-weight: bold\">900</span><span style=\"color: #c6c6c6; text-decoration-color: #c6c6c6; font-weight: bold\"> translates to channels </span><span style=\"color: #c0c0c0; text-decoration-color: #c0c0c0; font-weight: bold\">26</span><span style=\"color: #c6c6c6; text-decoration-color: #c6c6c6; font-weight: bold\">-</span><span style=\"color: #c0c0c0; text-decoration-color: #c0c0c0; font-weight: bold\">124</span><span style=\"color: #c6c6c6; text-decoration-color: #c6c6c6; font-weight: bold\">                                  </span><a href=\"file:///home/rishabh/miniconda3/envs/threeml/lib/python3.9/site-packages/threeML/plugins/SpectrumLike.py\" target=\"_blank\"><span style=\"color: #7f7f7f; text-decoration-color: #7f7f7f\">SpectrumLike.py</span></a><span style=\"color: #7f7f7f; text-decoration-color: #7f7f7f\">:</span><a href=\"file:///home/rishabh/miniconda3/envs/threeml/lib/python3.9/site-packages/threeML/plugins/SpectrumLike.py#1247\" target=\"_blank\"><span style=\"color: #7f7f7f; text-decoration-color: #7f7f7f\">1247</span></a>\n",
       "</pre>\n"
      ],
      "text/plain": [
       "\u001b[38;5;46m        \u001b[0m\u001b[38;5;46m \u001b[0m\u001b[38;5;49mINFO    \u001b[0m \u001b[1;38;5;251m Range \u001b[0m\u001b[1;37m40\u001b[0m\u001b[1;38;5;251m-\u001b[0m\u001b[1;37m900\u001b[0m\u001b[1;38;5;251m translates to channels \u001b[0m\u001b[1;37m26\u001b[0m\u001b[1;38;5;251m-\u001b[0m\u001b[1;37m124\u001b[0m\u001b[1;38;5;251m                                 \u001b[0m\u001b[1;38;5;251m \u001b[0m\u001b]8;id=996661;file:///home/rishabh/miniconda3/envs/threeml/lib/python3.9/site-packages/threeML/plugins/SpectrumLike.py\u001b\\\u001b[2mSpectrumLike.py\u001b[0m\u001b]8;;\u001b\\\u001b[2m:\u001b[0m\u001b]8;id=605074;file:///home/rishabh/miniconda3/envs/threeml/lib/python3.9/site-packages/threeML/plugins/SpectrumLike.py#1247\u001b\\\u001b[2m1247\u001b[0m\u001b]8;;\u001b\\\n"
      ]
     },
     "metadata": {},
     "output_type": "display_data"
    },
    {
     "data": {
      "text/html": [
       "<pre style=\"white-space:pre;overflow-x:auto;line-height:normal;font-family:Menlo,'DejaVu Sans Mono',consolas,'Courier New',monospace\"><span style=\"color: #00ff00; text-decoration-color: #00ff00\">         </span><span style=\"color: #00ffaf; text-decoration-color: #00ffaf\">INFO    </span> <span style=\"color: #c6c6c6; text-decoration-color: #c6c6c6; font-weight: bold\"> sampler set to </span><span style=\"color: #000080; text-decoration-color: #000080; font-weight: bold\">multinest</span><span style=\"color: #c6c6c6; text-decoration-color: #c6c6c6; font-weight: bold\">                                                </span><a href=\"file:///home/rishabh/miniconda3/envs/threeml/lib/python3.9/site-packages/threeML/bayesian/bayesian_analysis.py\" target=\"_blank\"><span style=\"color: #7f7f7f; text-decoration-color: #7f7f7f\">bayesian_analysis.py</span></a><span style=\"color: #7f7f7f; text-decoration-color: #7f7f7f\">:</span><a href=\"file:///home/rishabh/miniconda3/envs/threeml/lib/python3.9/site-packages/threeML/bayesian/bayesian_analysis.py#202\" target=\"_blank\"><span style=\"color: #7f7f7f; text-decoration-color: #7f7f7f\">202</span></a>\n",
       "</pre>\n"
      ],
      "text/plain": [
       "\u001b[38;5;46m        \u001b[0m\u001b[38;5;46m \u001b[0m\u001b[38;5;49mINFO    \u001b[0m \u001b[1;38;5;251m sampler set to \u001b[0m\u001b[1;34mmultinest\u001b[0m\u001b[1;38;5;251m                                               \u001b[0m\u001b[1;38;5;251m \u001b[0m\u001b]8;id=59512;file:///home/rishabh/miniconda3/envs/threeml/lib/python3.9/site-packages/threeML/bayesian/bayesian_analysis.py\u001b\\\u001b[2mbayesian_analysis.py\u001b[0m\u001b]8;;\u001b\\\u001b[2m:\u001b[0m\u001b]8;id=822821;file:///home/rishabh/miniconda3/envs/threeml/lib/python3.9/site-packages/threeML/bayesian/bayesian_analysis.py#202\u001b\\\u001b[2m202\u001b[0m\u001b]8;;\u001b\\\n"
      ]
     },
     "metadata": {},
     "output_type": "display_data"
    },
    {
     "name": "stdout",
     "output_type": "stream",
     "text": [
      " *****************************************************\n",
      " MultiNest v3.10\n",
      " Copyright Farhan Feroz & Mike Hobson\n",
      " Release Jul 2015\n",
      "\n",
      " no. of live points = 1000\n",
      " dimensionality =    4\n",
      " *****************************************************\n",
      "\n",
      " MultiNest Warning!\n",
      " Parameter            3  of mode            1  is converging towards the edge of the prior.\n",
      "\n",
      " MultiNest Warning!\n",
      " Parameter            3  of mode            1  is converging towards the edge of the prior.\n",
      "\n",
      " MultiNest Warning!\n",
      " Parameter            3  of mode            1  is converging towards the edge of the prior.\n",
      "\n",
      " MultiNest Warning!\n",
      " Parameter            3  of mode            1  is converging towards the edge of the prior.\n",
      "\n",
      " MultiNest Warning!\n",
      " Parameter            3  of mode            1  is converging towards the edge of the prior.\n",
      "\n",
      " MultiNest Warning!\n",
      " Parameter            3  of mode            1  is converging towards the edge of the prior.\n",
      "\n",
      " MultiNest Warning!\n",
      " Parameter            3  of mode            1  is converging towards the edge of the prior.\n",
      "\n",
      " MultiNest Warning!\n",
      " Parameter            3  of mode            1  is converging towards the edge of the prior.\n",
      "\n",
      " MultiNest Warning!\n",
      " Parameter            3  of mode            1  is converging towards the edge of the prior.\n",
      "\n",
      " MultiNest Warning!\n",
      " Parameter            3  of mode            1  is converging towards the edge of the prior.\n",
      "\n",
      " MultiNest Warning!\n",
      " Parameter            3  of mode            1  is converging towards the edge of the prior.\n",
      "\n",
      " MultiNest Warning!\n",
      " Parameter            3  of mode            1  is converging towards the edge of the prior.\n",
      "\n",
      " MultiNest Warning!\n",
      " Parameter            3  of mode            1  is converging towards the edge of the prior.\n",
      "\n",
      " MultiNest Warning!\n",
      " Parameter            3  of mode            1  is converging towards the edge of the prior.\n",
      "\n",
      " MultiNest Warning!\n",
      " Parameter            3  of mode            1  is converging towards the edge of the prior.\n",
      "\n",
      " MultiNest Warning!\n",
      " Parameter            3  of mode            1  is converging towards the edge of the prior.\n",
      "\n",
      " MultiNest Warning!\n",
      " Parameter            3  of mode            1  is converging towards the edge of the prior.\n",
      "\n",
      " MultiNest Warning!\n",
      " Parameter            3  of mode            1  is converging towards the edge of the prior.\n",
      "\n",
      " MultiNest Warning!\n",
      " Parameter            3  of mode            1  is converging towards the edge of the prior.\n",
      "\n",
      " MultiNest Warning!\n",
      " Parameter            3  of mode            1  is converging towards the edge of the prior.\n",
      "\n",
      " MultiNest Warning!\n",
      " Parameter            3  of mode            1  is converging towards the edge of the prior.\n",
      "\n",
      " MultiNest Warning!\n",
      " Parameter            3  of mode            1  is converging towards the edge of the prior.\n",
      "\n",
      " MultiNest Warning!\n",
      " Parameter            3  of mode            1  is converging towards the edge of the prior.\n",
      "\n",
      " MultiNest Warning!\n",
      " Parameter            3  of mode            1  is converging towards the edge of the prior.\n",
      "\n",
      " MultiNest Warning!\n",
      " Parameter            3  of mode            1  is converging towards the edge of the prior.\n",
      "\n",
      " MultiNest Warning!\n",
      " Parameter            3  of mode            1  is converging towards the edge of the prior.\n",
      "\n",
      " MultiNest Warning!\n",
      " Parameter            3  of mode            1  is converging towards the edge of the prior.\n",
      "\n",
      " MultiNest Warning!\n",
      " Parameter            3  of mode            1  is converging towards the edge of the prior.\n",
      "\n",
      " MultiNest Warning!\n",
      " Parameter            3  of mode            1  is converging towards the edge of the prior.\n",
      "\n",
      " MultiNest Warning!\n",
      " Parameter            3  of mode            1  is converging towards the edge of the prior.\n",
      "\n",
      " MultiNest Warning!\n",
      " Parameter            3  of mode            1  is converging towards the edge of the prior.\n",
      "\n",
      " MultiNest Warning!\n",
      " Parameter            3  of mode            1  is converging towards the edge of the prior.\n",
      "\n",
      " MultiNest Warning!\n",
      " Parameter            3  of mode            1  is converging towards the edge of the prior.\n",
      "\n",
      " MultiNest Warning!\n",
      " Parameter            3  of mode            1  is converging towards the edge of the prior.\n",
      "\n",
      " MultiNest Warning!\n",
      " Parameter            3  of mode            1  is converging towards the edge of the prior.\n",
      "\n",
      " MultiNest Warning!\n",
      " Parameter            3  of mode            1  is converging towards the edge of the prior.\n",
      "\n",
      " MultiNest Warning!\n",
      " Parameter            3  of mode            1  is converging towards the edge of the prior.\n",
      "\n",
      " MultiNest Warning!\n",
      " Parameter            3  of mode            1  is converging towards the edge of the prior.\n",
      "\n",
      " MultiNest Warning!\n",
      " Parameter            3  of mode            1  is converging towards the edge of the prior.\n",
      "\n",
      " MultiNest Warning!\n",
      " Parameter            3  of mode            1  is converging towards the edge of the prior.\n",
      "\n",
      " MultiNest Warning!\n",
      " Parameter            3  of mode            1  is converging towards the edge of the prior.\n",
      "  analysing data from chains/fit-.txt\n",
      " ln(ev)=  -185.73092021078324      +/-  0.11685153362776964     \n",
      " Total Likelihood Evaluations:        36134\n",
      " Sampling finished. Exiting MultiNest\n"
     ]
    },
    {
     "data": {
      "text/html": [
       "<pre style=\"white-space:pre;overflow-x:auto;line-height:normal;font-family:Menlo,'DejaVu Sans Mono',consolas,'Courier New',monospace\"><span style=\"color: #00ff00; text-decoration-color: #00ff00\">16:37:27 </span><span style=\"color: #00ffaf; text-decoration-color: #00ffaf\">INFO    </span> <span style=\"color: #c6c6c6; text-decoration-color: #c6c6c6; font-weight: bold\"> fit restored to maximum of posterior                                         </span><a href=\"file:///home/rishabh/miniconda3/envs/threeml/lib/python3.9/site-packages/threeML/bayesian/sampler_base.py\" target=\"_blank\"><span style=\"color: #7f7f7f; text-decoration-color: #7f7f7f\">sampler_base.py</span></a><span style=\"color: #7f7f7f; text-decoration-color: #7f7f7f\">:</span><a href=\"file:///home/rishabh/miniconda3/envs/threeml/lib/python3.9/site-packages/threeML/bayesian/sampler_base.py#178\" target=\"_blank\"><span style=\"color: #7f7f7f; text-decoration-color: #7f7f7f\">178</span></a>\n",
       "</pre>\n"
      ],
      "text/plain": [
       "\u001b[38;5;46m16:37:27\u001b[0m\u001b[38;5;46m \u001b[0m\u001b[38;5;49mINFO    \u001b[0m \u001b[1;38;5;251m fit restored to maximum of posterior                                        \u001b[0m\u001b[1;38;5;251m \u001b[0m\u001b]8;id=645614;file:///home/rishabh/miniconda3/envs/threeml/lib/python3.9/site-packages/threeML/bayesian/sampler_base.py\u001b\\\u001b[2msampler_base.py\u001b[0m\u001b]8;;\u001b\\\u001b[2m:\u001b[0m\u001b]8;id=691629;file:///home/rishabh/miniconda3/envs/threeml/lib/python3.9/site-packages/threeML/bayesian/sampler_base.py#178\u001b\\\u001b[2m178\u001b[0m\u001b]8;;\u001b\\\n"
      ]
     },
     "metadata": {},
     "output_type": "display_data"
    },
    {
     "data": {
      "text/html": [
       "<pre style=\"white-space:pre;overflow-x:auto;line-height:normal;font-family:Menlo,'DejaVu Sans Mono',consolas,'Courier New',monospace\"><span style=\"color: #00ff00; text-decoration-color: #00ff00\">         </span><span style=\"color: #00ffaf; text-decoration-color: #00ffaf\">INFO    </span> <span style=\"color: #c6c6c6; text-decoration-color: #c6c6c6; font-weight: bold\"> fit restored to maximum of posterior                                         </span><a href=\"file:///home/rishabh/miniconda3/envs/threeml/lib/python3.9/site-packages/threeML/bayesian/sampler_base.py\" target=\"_blank\"><span style=\"color: #7f7f7f; text-decoration-color: #7f7f7f\">sampler_base.py</span></a><span style=\"color: #7f7f7f; text-decoration-color: #7f7f7f\">:</span><a href=\"file:///home/rishabh/miniconda3/envs/threeml/lib/python3.9/site-packages/threeML/bayesian/sampler_base.py#178\" target=\"_blank\"><span style=\"color: #7f7f7f; text-decoration-color: #7f7f7f\">178</span></a>\n",
       "</pre>\n"
      ],
      "text/plain": [
       "\u001b[38;5;46m        \u001b[0m\u001b[38;5;46m \u001b[0m\u001b[38;5;49mINFO    \u001b[0m \u001b[1;38;5;251m fit restored to maximum of posterior                                        \u001b[0m\u001b[1;38;5;251m \u001b[0m\u001b]8;id=264467;file:///home/rishabh/miniconda3/envs/threeml/lib/python3.9/site-packages/threeML/bayesian/sampler_base.py\u001b\\\u001b[2msampler_base.py\u001b[0m\u001b]8;;\u001b\\\u001b[2m:\u001b[0m\u001b]8;id=524360;file:///home/rishabh/miniconda3/envs/threeml/lib/python3.9/site-packages/threeML/bayesian/sampler_base.py#178\u001b\\\u001b[2m178\u001b[0m\u001b]8;;\u001b\\\n"
      ]
     },
     "metadata": {},
     "output_type": "display_data"
    },
    {
     "data": {
      "text/html": [
       "<pre style=\"white-space:pre;overflow-x:auto;line-height:normal;font-family:Menlo,'DejaVu Sans Mono',consolas,'Courier New',monospace\"><span style=\"color: #00ffaf; text-decoration-color: #00ffaf; font-weight: bold; text-decoration: underline\">Maximum a posteriori probability (MAP) point:</span>\n",
       "\n",
       "</pre>\n"
      ],
      "text/plain": [
       "\u001b[1;4;38;5;49mMaximum a posteriori probability \u001b[0m\u001b[1;4;38;5;49m(\u001b[0m\u001b[1;4;38;5;49mMAP\u001b[0m\u001b[1;4;38;5;49m)\u001b[0m\u001b[1;4;38;5;49m point:\u001b[0m\n",
       "\n"
      ]
     },
     "metadata": {},
     "output_type": "display_data"
    },
    {
     "data": {
      "text/html": [
       "<div>\n",
       "<style scoped>\n",
       "    .dataframe tbody tr th:only-of-type {\n",
       "        vertical-align: middle;\n",
       "    }\n",
       "\n",
       "    .dataframe tbody tr th {\n",
       "        vertical-align: top;\n",
       "    }\n",
       "\n",
       "    .dataframe thead th {\n",
       "        text-align: right;\n",
       "    }\n",
       "</style>\n",
       "<table border=\"1\" class=\"dataframe\">\n",
       "  <thead>\n",
       "    <tr style=\"text-align: right;\">\n",
       "      <th></th>\n",
       "      <th>result</th>\n",
       "      <th>unit</th>\n",
       "    </tr>\n",
       "    <tr>\n",
       "      <th>parameter</th>\n",
       "      <th></th>\n",
       "      <th></th>\n",
       "    </tr>\n",
       "  </thead>\n",
       "  <tbody>\n",
       "    <tr>\n",
       "      <th>bn220426285.spectrum.main.Bandnew.K</th>\n",
       "      <td>1.88 -0.27 +0.19</td>\n",
       "      <td>1 / (keV s cm2)</td>\n",
       "    </tr>\n",
       "    <tr>\n",
       "      <th>bn220426285.spectrum.main.Bandnew.alpha</th>\n",
       "      <td>(7.2 -1.1 +0.7) x 10^-1</td>\n",
       "      <td></td>\n",
       "    </tr>\n",
       "    <tr>\n",
       "      <th>bn220426285.spectrum.main.Bandnew.xp</th>\n",
       "      <td>(1.62 -0.04 +0.08) x 10^2</td>\n",
       "      <td>keV</td>\n",
       "    </tr>\n",
       "    <tr>\n",
       "      <th>bn220426285.spectrum.main.Bandnew.beta</th>\n",
       "      <td>-3.46 -2.5 +0.22</td>\n",
       "      <td></td>\n",
       "    </tr>\n",
       "  </tbody>\n",
       "</table>\n",
       "</div>"
      ],
      "text/plain": [
       "                                                            result  \\\n",
       "parameter                                                            \n",
       "bn220426285.spectrum.main.Bandnew.K               1.88 -0.27 +0.19   \n",
       "bn220426285.spectrum.main.Bandnew.alpha    (7.2 -1.1 +0.7) x 10^-1   \n",
       "bn220426285.spectrum.main.Bandnew.xp     (1.62 -0.04 +0.08) x 10^2   \n",
       "bn220426285.spectrum.main.Bandnew.beta            -3.46 -2.5 +0.22   \n",
       "\n",
       "                                                    unit  \n",
       "parameter                                                 \n",
       "bn220426285.spectrum.main.Bandnew.K      1 / (keV s cm2)  \n",
       "bn220426285.spectrum.main.Bandnew.alpha                   \n",
       "bn220426285.spectrum.main.Bandnew.xp                 keV  \n",
       "bn220426285.spectrum.main.Bandnew.beta                    "
      ]
     },
     "metadata": {},
     "output_type": "display_data"
    },
    {
     "data": {
      "text/html": [
       "<pre style=\"white-space:pre;overflow-x:auto;line-height:normal;font-family:Menlo,'DejaVu Sans Mono',consolas,'Courier New',monospace\">\n",
       "<span style=\"color: #00ffaf; text-decoration-color: #00ffaf; font-weight: bold; text-decoration: underline\">Values of -log(posterior) at the minimum:</span>\n",
       "\n",
       "</pre>\n"
      ],
      "text/plain": [
       "\n",
       "\u001b[1;4;38;5;49mValues of -\u001b[0m\u001b[1;4;38;5;49mlog\u001b[0m\u001b[1;4;38;5;49m(\u001b[0m\u001b[1;4;38;5;49mposterior\u001b[0m\u001b[1;4;38;5;49m)\u001b[0m\u001b[1;4;38;5;49m at the minimum:\u001b[0m\n",
       "\n"
      ]
     },
     "metadata": {},
     "output_type": "display_data"
    },
    {
     "data": {
      "text/html": [
       "<div>\n",
       "<style scoped>\n",
       "    .dataframe tbody tr th:only-of-type {\n",
       "        vertical-align: middle;\n",
       "    }\n",
       "\n",
       "    .dataframe tbody tr th {\n",
       "        vertical-align: top;\n",
       "    }\n",
       "\n",
       "    .dataframe thead th {\n",
       "        text-align: right;\n",
       "    }\n",
       "</style>\n",
       "<table border=\"1\" class=\"dataframe\">\n",
       "  <thead>\n",
       "    <tr style=\"text-align: right;\">\n",
       "      <th></th>\n",
       "      <th>-log(posterior)</th>\n",
       "    </tr>\n",
       "  </thead>\n",
       "  <tbody>\n",
       "    <tr>\n",
       "      <th>NaI1</th>\n",
       "      <td>-77.699107</td>\n",
       "    </tr>\n",
       "    <tr>\n",
       "      <th>NaI2</th>\n",
       "      <td>-93.177776</td>\n",
       "    </tr>\n",
       "    <tr>\n",
       "      <th>total</th>\n",
       "      <td>-170.876882</td>\n",
       "    </tr>\n",
       "  </tbody>\n",
       "</table>\n",
       "</div>"
      ],
      "text/plain": [
       "       -log(posterior)\n",
       "NaI1        -77.699107\n",
       "NaI2        -93.177776\n",
       "total      -170.876882"
      ]
     },
     "metadata": {},
     "output_type": "display_data"
    },
    {
     "data": {
      "text/html": [
       "<pre style=\"white-space:pre;overflow-x:auto;line-height:normal;font-family:Menlo,'DejaVu Sans Mono',consolas,'Courier New',monospace\">\n",
       "<span style=\"color: #00ffaf; text-decoration-color: #00ffaf; font-weight: bold; text-decoration: underline\">Values of statistical measures:</span>\n",
       "\n",
       "</pre>\n"
      ],
      "text/plain": [
       "\n",
       "\u001b[1;4;38;5;49mValues of statistical measures:\u001b[0m\n",
       "\n"
      ]
     },
     "metadata": {},
     "output_type": "display_data"
    },
    {
     "data": {
      "text/html": [
       "<div>\n",
       "<style scoped>\n",
       "    .dataframe tbody tr th:only-of-type {\n",
       "        vertical-align: middle;\n",
       "    }\n",
       "\n",
       "    .dataframe tbody tr th {\n",
       "        vertical-align: top;\n",
       "    }\n",
       "\n",
       "    .dataframe thead th {\n",
       "        text-align: right;\n",
       "    }\n",
       "</style>\n",
       "<table border=\"1\" class=\"dataframe\">\n",
       "  <thead>\n",
       "    <tr style=\"text-align: right;\">\n",
       "      <th></th>\n",
       "      <th>statistical measures</th>\n",
       "    </tr>\n",
       "  </thead>\n",
       "  <tbody>\n",
       "    <tr>\n",
       "      <th>AIC</th>\n",
       "      <td>349.927678</td>\n",
       "    </tr>\n",
       "    <tr>\n",
       "      <th>BIC</th>\n",
       "      <td>363.592107</td>\n",
       "    </tr>\n",
       "    <tr>\n",
       "      <th>DIC</th>\n",
       "      <td>346.424842</td>\n",
       "    </tr>\n",
       "    <tr>\n",
       "      <th>PDIC</th>\n",
       "      <td>1.029299</td>\n",
       "    </tr>\n",
       "    <tr>\n",
       "      <th>log(Z)</th>\n",
       "      <td>-80.661914</td>\n",
       "    </tr>\n",
       "  </tbody>\n",
       "</table>\n",
       "</div>"
      ],
      "text/plain": [
       "        statistical measures\n",
       "AIC               349.927678\n",
       "BIC               363.592107\n",
       "DIC               346.424842\n",
       "PDIC                1.029299\n",
       "log(Z)            -80.661914"
      ]
     },
     "metadata": {},
     "output_type": "display_data"
    },
    {
     "data": {
      "application/vnd.jupyter.widget-view+json": {
       "model_id": "ad14d830f4ca46da97db881b535874c6",
       "version_major": 2,
       "version_minor": 0
      },
      "text/plain": [
       "processing Bayesian analyses:   0%|                                                                           …"
      ]
     },
     "metadata": {},
     "output_type": "display_data"
    },
    {
     "data": {
      "application/vnd.jupyter.widget-view+json": {
       "model_id": "65d510055a0f4e748010a99721c491a1",
       "version_major": 2,
       "version_minor": 0
      },
      "text/plain": [
       "Propagating errors:   0%|                                                                                     …"
      ]
     },
     "metadata": {},
     "output_type": "display_data"
    },
    {
     "data": {
      "application/vnd.jupyter.widget-view+json": {
       "model_id": "c7fec3b098c4478f969449f4580701ff",
       "version_major": 2,
       "version_minor": 0
      },
      "text/plain": [
       "Propagating errors:   0%|                                                                                     …"
      ]
     },
     "metadata": {},
     "output_type": "display_data"
    }
   ],
   "source": [
    "\n",
    "\n",
    "p = '/home/rishabh/GRB/{0}/{0}'.format(triggerName)\n",
    "\n",
    "file1 = open('/home/rishabh/GRB/{0}/output/{0}_{1}_Flux_v11.dat'.format(triggerName,model),'a')\n",
    "\n",
    "aa = 'home/rishabh/GRB/{0}/output/{0}_{1}'.format(triggerName,model)\n",
    "#with PdfPages('{0}_cornerplots_v11.pdf'.format(aa)) as pdf1,PdfPages('{0}_model_v11.pdf'.format(aa)) as pdf2,PdfPages('{0}_spectrum_v11.pdf'.format(aa)) as pdf3:\n",
    "for j in range(1,2):\n",
    "\n",
    "    model_no_eac = clone_model(spec_model)\n",
    "    det_name = ['NaI1','NaI2']\n",
    "    det = ['n1','n2','b0','n5']\n",
    "    rate = [0.3, 0.3]\n",
    "    p = '/home/rishabh/GRB/{0}/{0}'.format(triggerName)\n",
    "    peak  = str(j)\n",
    "    nai_1 = OGIPLike(det_name[0],(\"{0}_{1}_srcspectra.pha\".format(p,det[0])+\"{\"+peak+\"}\"),\n",
    "                     (\"{0}_{1}_bkgspectra.bak\".format(p,det[0])+\"{\"+peak+\"}\"),\n",
    "                    (\"{0}_{1}_weightedrsp.rsp\".format(p,det[0])+\"{\"+peak+\"}\"),spectrum_number=1,)\n",
    "\n",
    "    nai_a = OGIPLike(det_name[1],(\"{0}_{1}_srcspectra.pha\".format(p,det[1])+\"{\"+peak+\"}\"),\n",
    "                     (\"{0}_{1}_bkgspectra.bak\".format(p,det[1])+\"{\"+peak+\"}\"),\n",
    "                    (\"{0}_{1}_weightedrsp.rsp\".format(p,det[1])+\"{\"+peak+\"}\"),spectrum_number=1,)\n",
    "\n",
    "    nai_1.set_active_measurements(\"8-30\",\"40-900\")\n",
    "    nai_a.set_active_measurements(\"8-30\",\"40-900\")\n",
    "    #bgo_1.set_active_measurements(\"250-40000\")\n",
    "\n",
    "    \n",
    "    data_list = DataList(nai_1,nai_a)\n",
    "    jl_no_eac = BayesianAnalysis(model_no_eac, data_list)\n",
    "    jl_no_eac.set_sampler(\"multinest\", share_spectrum=True)\n",
    "    jl_no_eac.sampler.setup(n_live_points=1000)\n",
    "    jl_no_eac.sample()\n",
    "    jl_no_eac.results.corner_plot()\n",
    "    plt.savefig('GRB/{0}/output/{0}_{1}_cornerplots_v11.pdf'.format(triggerName,model))\n",
    "    plt.close()\n",
    "    \n",
    "    #-----------------------------------------------------------\n",
    "    \n",
    "    fig = display_spectrum_model_counts(jl_no_eac, step=False, min_rate=rate, data_colors=[\"r\", \"b\"]\n",
    "    ,model_colors=[\"r\", \"b\"],model_labels=[det_name[0],det_name[1]],show_background=False,source_only=True)\n",
    "    ax = fig.get_axes()[0]\n",
    "    ax.set_ylim(1e-5,5e2)\n",
    "    \n",
    "\n",
    "    jl_no_eac.results.write_to(\"{0}/output/{1}_peak_{2}.fits\".format(p[:-11],model,peak), overwrite=True)\n",
    "    plt.savefig('GRB/{0}/output/{0}_{1}_spectrum_v11.pdf'.format(triggerName,model))\n",
    "    plt.close()\n",
    "    #fig.show()\n",
    "    \n",
    "    fig2 = plot_spectra(jl_no_eac.results,ene_min=8, ene_max=1e4, num_ene=200,use_components= True,\n",
    "                        flux_unit='keV2/(cm2 s keV)',equal_tailed=True,fit_cmap=\"Set1\",contour_cmap=\"Set1\")\n",
    "    ax1 = fig2.get_axes()[0]\n",
    "    plt.xlabel('Energy (keV)',fontsize=10)\n",
    "    plt.ylabel(r'$\\rm \\nu$ $\\rm F_{\\rm \\nu}$ $\\rm (keV$ $\\rm cm^{-2}$ $\\rm sec^{-1})$',fontsize=10)\n",
    "    ax1.set_ylim(1,1e4)\n",
    "    ax1.legend(numpoints=1,prop={'size':10},loc='best',labelspacing=0.7)\n",
    "    plt.tick_params(direction=\"in\")\n",
    "    plt.tick_params(axis='both',which='minor',length=3,width=1,labelsize=10)\n",
    "    plt.tick_params(axis='both',which='major',length=3,width=1,labelsize=10)\n",
    "    plt.tight_layout()\n",
    "    plt.savefig('GRB/{0}/output/{0}_{1}_model_v11.pdf'.format(triggerName,model))\n",
    "    #------------------------------------------------------------\n",
    "    flx1 = jl_no_eac.results.get_flux(0.939319932 * u.keV, 9393.19932369 * u.keV)\n",
    "    flx2 = jl_no_eac.results.get_flux(8 * u.keV, 40000 * u.keV)\n",
    "    \n",
    "    print('{0} {1} {2} {3} {4} {5} {6}'.format(j,str(flx1['flux']['bn220426285: total'])[:-14],\n",
    "                                               str(flx1['low bound']['bn220426285: total'])[:-14],\n",
    "                                               str(flx1['hi bound']['bn220426285: total'])[:-14],\n",
    "                                               str(flx2['flux']['bn220426285: total'])[:-14],\n",
    "                                               str(flx2['low bound']['bn220426285: total'])[:-14],\n",
    "                                               str(flx2['hi bound']['bn220426285: total'])[:-14]),file=file1)\n",
    "\n",
    "    #--------------------------------------------------------------------------------------------\n",
    "        \n",
    "file1.close()"
   ]
  },
  {
   "cell_type": "code",
   "execution_count": null,
   "id": "83cad2d6-dec6-42da-9097-9b9d5cbc8a13",
   "metadata": {},
   "outputs": [],
   "source": []
  }
 ],
 "metadata": {
  "kernelspec": {
   "display_name": "Python 3 (ipykernel)",
   "language": "python",
   "name": "python3"
  },
  "language_info": {
   "codemirror_mode": {
    "name": "ipython",
    "version": 3
   },
   "file_extension": ".py",
   "mimetype": "text/x-python",
   "name": "python",
   "nbconvert_exporter": "python",
   "pygments_lexer": "ipython3",
   "version": "3.9.19"
  }
 },
 "nbformat": 4,
 "nbformat_minor": 5
}
